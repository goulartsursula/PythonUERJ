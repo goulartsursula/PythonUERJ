{
  "nbformat": 4,
  "nbformat_minor": 0,
  "metadata": {
    "colab": {
      "name": "ex003.ipynb",
      "provenance": [],
      "collapsed_sections": [],
      "authorship_tag": "ABX9TyNHhpL1vot1ZFTBvH9ANvCS",
      "include_colab_link": true
    },
    "kernelspec": {
      "name": "python3",
      "display_name": "Python 3"
    }
  },
  "cells": [
    {
      "cell_type": "markdown",
      "metadata": {
        "id": "view-in-github",
        "colab_type": "text"
      },
      "source": [
        "<a href=\"https://colab.research.google.com/github/goulartsursula/python-uerj/blob/master/ex003.ipynb\" target=\"_parent\"><img src=\"https://colab.research.google.com/assets/colab-badge.svg\" alt=\"Open In Colab\"/></a>"
      ]
    },
    {
      "cell_type": "markdown",
      "metadata": {
        "id": "OkbRhrVZjqDE",
        "colab_type": "text"
      },
      "source": [
        "**Exercício 003:** Se fizermos uma corrida de 10 quilômetros em 43 minutos e 30 segundos, qual será o seu tempo médio por milha? Qual é a sua velocidade média em milhas por hora?"
      ]
    },
    {
      "cell_type": "code",
      "metadata": {
        "id": "EO15z23EkHDd",
        "colab_type": "code",
        "colab": {
          "base_uri": "https://localhost:8080/",
          "height": 34
        },
        "outputId": "7ef87c17-3198-4afa-b822-6aa4e141bbe8"
      },
      "source": [
        "43 * 60"
      ],
      "execution_count": 1,
      "outputs": [
        {
          "output_type": "execute_result",
          "data": {
            "text/plain": [
              "2580"
            ]
          },
          "metadata": {
            "tags": []
          },
          "execution_count": 1
        }
      ]
    },
    {
      "cell_type": "markdown",
      "metadata": {
        "id": "ntzKu3TVkFam",
        "colab_type": "text"
      },
      "source": [
        "10 quilômetros em 2610 segundos"
      ]
    },
    {
      "cell_type": "code",
      "metadata": {
        "id": "hDW8x5rUj7rf",
        "colab_type": "code",
        "colab": {
          "base_uri": "https://localhost:8080/",
          "height": 34
        },
        "outputId": "2cce3b46-03c5-48ee-fd81-6ff69b6d510e"
      },
      "source": [
        "(1.61 * 2610) / 10"
      ],
      "execution_count": 4,
      "outputs": [
        {
          "output_type": "execute_result",
          "data": {
            "text/plain": [
              "420.21000000000004"
            ]
          },
          "metadata": {
            "tags": []
          },
          "execution_count": 4
        }
      ]
    },
    {
      "cell_type": "markdown",
      "metadata": {
        "id": "wDeaz7OymDnT",
        "colab_type": "text"
      },
      "source": [
        "Tempo médio por milha é de 420.21 segundos, aproximadamente 7 minutos."
      ]
    },
    {
      "cell_type": "code",
      "metadata": {
        "id": "af8V5QyJngbN",
        "colab_type": "code",
        "colab": {
          "base_uri": "https://localhost:8080/",
          "height": 34
        },
        "outputId": "a2b25b44-207d-4a38-b7c1-d9361b35d1ca"
      },
      "source": [
        "10 / 1.61"
      ],
      "execution_count": 9,
      "outputs": [
        {
          "output_type": "execute_result",
          "data": {
            "text/plain": [
              "6.211180124223602"
            ]
          },
          "metadata": {
            "tags": []
          },
          "execution_count": 9
        }
      ]
    },
    {
      "cell_type": "markdown",
      "metadata": {
        "id": "bJCOB71dnz2U",
        "colab_type": "text"
      },
      "source": [
        "10km = 6.21 mi"
      ]
    },
    {
      "cell_type": "code",
      "metadata": {
        "id": "-Vk_0wugnu8d",
        "colab_type": "code",
        "colab": {
          "base_uri": "https://localhost:8080/",
          "height": 34
        },
        "outputId": "e7fb6384-f26a-41e9-e146-d4c80186d621"
      },
      "source": [
        "(2610 / 3600)"
      ],
      "execution_count": 10,
      "outputs": [
        {
          "output_type": "execute_result",
          "data": {
            "text/plain": [
              "0.725"
            ]
          },
          "metadata": {
            "tags": []
          },
          "execution_count": 10
        }
      ]
    },
    {
      "cell_type": "markdown",
      "metadata": {
        "id": "uNRwA18SoOcZ",
        "colab_type": "text"
      },
      "source": [
        "43 minutos e 30 segundos é equivalente a 0.725 horas.\n",
        "\n"
      ]
    },
    {
      "cell_type": "code",
      "metadata": {
        "id": "HB2_7_jioGIl",
        "colab_type": "code",
        "colab": {
          "base_uri": "https://localhost:8080/",
          "height": 34
        },
        "outputId": "daee90ee-67e6-430a-ff5c-403618799462"
      },
      "source": [
        "6.21 / 0.725"
      ],
      "execution_count": 11,
      "outputs": [
        {
          "output_type": "execute_result",
          "data": {
            "text/plain": [
              "8.565517241379311"
            ]
          },
          "metadata": {
            "tags": []
          },
          "execution_count": 11
        }
      ]
    },
    {
      "cell_type": "markdown",
      "metadata": {
        "id": "38MgMsSJomQ0",
        "colab_type": "text"
      },
      "source": [
        "Velocidade média de 8.566 mi/h"
      ]
    }
  ]
}
