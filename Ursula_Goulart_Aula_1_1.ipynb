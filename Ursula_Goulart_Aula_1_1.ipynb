{
  "nbformat": 4,
  "nbformat_minor": 0,
  "metadata": {
    "colab": {
      "name": "Ursula_Goulart_Aula_1_1.ipynb",
      "provenance": [],
      "authorship_tag": "ABX9TyO0kLi0307YwzrLt1Ku6oPv",
      "include_colab_link": true
    },
    "kernelspec": {
      "name": "python3",
      "display_name": "Python 3"
    }
  },
  "cells": [
    {
      "cell_type": "markdown",
      "metadata": {
        "id": "view-in-github",
        "colab_type": "text"
      },
      "source": [
        "<a href=\"https://colab.research.google.com/github/goulartsursula/python-uerj/blob/master/Ursula_Goulart_Aula_1_1.ipynb\" target=\"_parent\"><img src=\"https://colab.research.google.com/assets/colab-badge.svg\" alt=\"Open In Colab\"/></a>"
      ]
    },
    {
      "cell_type": "markdown",
      "metadata": {
        "id": "VQhAO95rVkf1",
        "colab_type": "text"
      },
      "source": [
        "Distância = Velocidade do som * tempo"
      ]
    },
    {
      "cell_type": "code",
      "metadata": {
        "id": "wI0PCOrwVsEy",
        "colab_type": "code",
        "colab": {
          "base_uri": "https://localhost:8080/",
          "height": 51
        },
        "outputId": "a7125465-24a3-473f-c7ab-f5f1de753139"
      },
      "source": [
        "v = 363\n",
        "t = float(input('Depois de quanto tempo que viu a luz ouviu o som do fogo artificial?'))\n",
        "print ('A distância entre a varanda e o fogo artificial é {}m'.format(t*t))"
      ],
      "execution_count": 7,
      "outputs": [
        {
          "output_type": "stream",
          "text": [
            "Depois de quanto tempo que viu a luz ouviu o som do fogo artificial?3\n",
            "A distância entre a varanda e o fogo artificial é 9.0m\n"
          ],
          "name": "stdout"
        }
      ]
    },
    {
      "cell_type": "code",
      "metadata": {
        "id": "-X2adT-NXPQr",
        "colab_type": "code",
        "colab": {}
      },
      "source": [
        ""
      ],
      "execution_count": null,
      "outputs": []
    }
  ]
}