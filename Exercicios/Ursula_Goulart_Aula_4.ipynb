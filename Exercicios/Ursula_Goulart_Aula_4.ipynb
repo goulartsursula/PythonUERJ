{
  "nbformat": 4,
  "nbformat_minor": 0,
  "metadata": {
    "colab": {
      "name": "Ursula_Goulart_Aula_4.ipynb",
      "provenance": [],
      "authorship_tag": "ABX9TyNnFGvYTtbMDjq7nYzvch9r",
      "include_colab_link": true
    },
    "kernelspec": {
      "name": "python3",
      "display_name": "Python 3"
    }
  },
  "cells": [
    {
      "cell_type": "markdown",
      "metadata": {
        "id": "view-in-github",
        "colab_type": "text"
      },
      "source": [
        "<a href=\"https://colab.research.google.com/github/goulartsursula/python-uerj/blob/master/Exercicios/Ursula_Goulart_Aula_4.ipynb\" target=\"_parent\"><img src=\"https://colab.research.google.com/assets/colab-badge.svg\" alt=\"Open In Colab\"/></a>"
      ]
    },
    {
      "cell_type": "code",
      "metadata": {
        "id": "-yhkVLaOrPTt",
        "outputId": "b1c3b727-cdc2-48fc-a810-b6271a31efa9",
        "colab": {
          "base_uri": "https://localhost:8080/",
          "height": 153
        }
      },
      "source": [
        "def print_spam():\n",
        "  print(\"spam\")\n",
        "\n",
        "def print_twice(a):\n",
        "  print(a)\n",
        "  print(a)\n",
        "\n",
        "def do_twice(funcao, a):\n",
        "  funcao(a)\n",
        "  funcao(a)\n",
        "\n",
        "def do_four(funcao, a):\n",
        "  do_twice(funcao, a)\n",
        "  do_twice(funcao, a)\n",
        "\n",
        "do_four(print_twice, \"Olá\")"
      ],
      "execution_count": null,
      "outputs": [
        {
          "output_type": "stream",
          "text": [
            "Olá\n",
            "Olá\n",
            "Olá\n",
            "Olá\n",
            "Olá\n",
            "Olá\n",
            "Olá\n",
            "Olá\n"
          ],
          "name": "stdout"
        }
      ]
    }
  ]
}