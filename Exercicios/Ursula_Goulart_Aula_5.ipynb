{
  "nbformat": 4,
  "nbformat_minor": 0,
  "metadata": {
    "colab": {
      "name": "Ursula_Goulart_Aula_5.ipynb",
      "provenance": [],
      "authorship_tag": "ABX9TyP0ZdAp8MaRoMSCMbLFSXLP",
      "include_colab_link": true
    },
    "kernelspec": {
      "name": "python3",
      "display_name": "Python 3"
    }
  },
  "cells": [
    {
      "cell_type": "markdown",
      "metadata": {
        "id": "view-in-github",
        "colab_type": "text"
      },
      "source": [
        "<a href=\"https://colab.research.google.com/github/goulartsursula/python-uerj/blob/master/Exercicios/Ursula_Goulart_Aula_5.ipynb\" target=\"_parent\"><img src=\"https://colab.research.google.com/assets/colab-badge.svg\" alt=\"Open In Colab\"/></a>"
      ]
    },
    {
      "cell_type": "code",
      "metadata": {
        "id": "uegYRBIiUbXS",
        "outputId": "bf99c8d3-50b3-40e3-ef63-6fa8bea07585",
        "colab": {
          "base_uri": "https://localhost:8080/",
          "height": 170
        }
      },
      "source": [
        "!pip3 install ColabTurtle"
      ],
      "execution_count": null,
      "outputs": [
        {
          "output_type": "stream",
          "text": [
            "Collecting ColabTurtle\n",
            "  Downloading https://files.pythonhosted.org/packages/49/01/6da7091c2c6c917cce99c000b89acb6aa27b66ef6eafc0c0ccf59b98694f/ColabTurtle-2.0.0.tar.gz\n",
            "Building wheels for collected packages: ColabTurtle\n",
            "  Building wheel for ColabTurtle (setup.py) ... \u001b[?25l\u001b[?25hdone\n",
            "  Created wheel for ColabTurtle: filename=ColabTurtle-2.0.0-cp36-none-any.whl size=4032 sha256=0a428fd897799b8d3323db76661c3ba0db9dc8745e92740b3d5ebc65735c6271\n",
            "  Stored in directory: /root/.cache/pip/wheels/a8/29/ec/ad346f0042ae467cc74f4378916348faf975b07890651dcae7\n",
            "Successfully built ColabTurtle\n",
            "Installing collected packages: ColabTurtle\n",
            "Successfully installed ColabTurtle-2.0.0\n"
          ],
          "name": "stdout"
        }
      ]
    },
    {
      "cell_type": "code",
      "metadata": {
        "id": "OnvtBvzAWeC7",
        "outputId": "a497e272-7cf1-4709-d2e0-f37a2901cd47",
        "colab": {
          "base_uri": "https://localhost:8080/",
          "height": 555
        }
      },
      "source": [
        "import ColabTurtle.Turtle\n",
        "\n",
        "estela = ColabTurtle.Turtle\n",
        "estela.initializeTurtle()\n",
        "\n",
        "cores = ['white', 'yellow', 'red', 'orange', 'green', 'blue', 'purple', 'purple', 'grey']\n",
        "input_cores = input('Cor da tartaruga: ')\n",
        "\n",
        "if input_cores in cores:\n",
        "  estela.color(input_cores)\n",
        "\n",
        "input_pensize = int(input('Tamanho:'))\n",
        "estela.width(input_pensize)\n",
        "\n",
        "for i in range(4):\n",
        "    estela.forward(50)\n",
        "    estela.left(90)"
      ],
      "execution_count": null,
      "outputs": [
        {
          "output_type": "display_data",
          "data": {
            "text/html": [
              "\n",
              "      <svg width=\"800\" height=\"500\">\n",
              "        <rect width=\"100%\" height=\"100%\" fill=\"black\"/>\n",
              "        <line x1=\"400\" y1=\"250\" x2=\"400.0\" y2=\"200.0\" stroke-linecap=\"round\" style=\"stroke:red;stroke-width:15\"/><line x1=\"400.0\" y1=\"200.0\" x2=\"350.0\" y2=\"200.0\" stroke-linecap=\"round\" style=\"stroke:red;stroke-width:15\"/><line x1=\"350.0\" y1=\"200.0\" x2=\"350.0\" y2=\"250.0\" stroke-linecap=\"round\" style=\"stroke:red;stroke-width:15\"/><line x1=\"350.0\" y1=\"250.0\" x2=\"400.0\" y2=\"250.0\" stroke-linecap=\"round\" style=\"stroke:red;stroke-width:15\"/>\n",
              "        \n",
              "      <g visibility=visible transform=\"rotate(180,400.0,250.0) translate(400.0, 250.0)\">\n",
              "        <circle stroke=\"red\" stroke-width=\"3\" fill=\"transparent\" r=\"12\" cx=\"0\" cy=\"0\"/>\n",
              "        <polygon points=\"0,19 3,16 -3,16\" style=\"fill:red;stroke:red;stroke-width:2\"/>\n",
              "      </g>\n",
              "    \n",
              "      </svg>\n",
              "    "
            ],
            "text/plain": [
              "<IPython.core.display.HTML object>"
            ]
          },
          "metadata": {
            "tags": []
          }
        },
        {
          "output_type": "stream",
          "text": [
            "Cor da tartaruga: red\n",
            "Tamanho:15\n"
          ],
          "name": "stdout"
        }
      ]
    },
    {
      "cell_type": "markdown",
      "metadata": {
        "id": "XDXvUGxedU88"
      },
      "source": [
        "Exercício 3\n"
      ]
    },
    {
      "cell_type": "code",
      "metadata": {
        "id": "3KwAf921ZL2b",
        "outputId": "a3e31866-36bc-4abd-f55f-2a811b9eda7a",
        "colab": {
          "base_uri": "https://localhost:8080/",
          "height": 1000
        }
      },
      "source": [
        "print(help(ColabTurtle.Turtle))"
      ],
      "execution_count": null,
      "outputs": [
        {
          "output_type": "stream",
          "text": [
            "Help on module ColabTurtle.Turtle in ColabTurtle:\n",
            "\n",
            "NAME\n",
            "    ColabTurtle.Turtle\n",
            "\n",
            "FUNCTIONS\n",
            "    backward(units)\n",
            "        # makes the turtle move backward by 'units' units\n",
            "    \n",
            "    bgcolor(color)\n",
            "        # change the background color of the drawing area; valid colors are defined at VALID_COLORS\n",
            "    \n",
            "    color(color)\n",
            "        # change the color of the pen; valid colors are defined at VALID_COLORS\n",
            "    \n",
            "    forward(units)\n",
            "        # makes the turtle move forward by 'units' units\n",
            "    \n",
            "    goto(x, y)\n",
            "        # move the turtle to a designated 'x'-'y' coordinate\n",
            "    \n",
            "    hideturtle()\n",
            "        # switch turtle visibility to ON\n",
            "    \n",
            "    initializeTurtle(initial_speed=4, initial_window_size=(800, 500))\n",
            "        # construct the display for turtle\n",
            "    \n",
            "    left(degrees)\n",
            "        # makes the turtle move right by 'degrees' degrees (NOT radians)\n",
            "    \n",
            "    pendown()\n",
            "        # lowers the pen such that following turtle moves will now cause drawings\n",
            "    \n",
            "    penup()\n",
            "        # raises the pen such that following turtle moves will not cause any drawings\n",
            "    \n",
            "    right(degrees)\n",
            "        # makes the turtle move right by 'degrees' degrees (NOT radians)\n",
            "    \n",
            "    setx(x)\n",
            "        # move the turtle to a designated 'x' x-coordinate, y-coordinate stays the same\n",
            "    \n",
            "    sety(y)\n",
            "        # move the turtle to a designated 'y' y-coordinate, x-coordinate stays the same\n",
            "    \n",
            "    showturtle()\n",
            "        # switch turtle visibility to ON\n",
            "    \n",
            "    speed(speed)\n",
            "        # update the speed of the moves, [1,10]\n",
            "    \n",
            "    width(width)\n",
            "        # change the width of the lines drawn by the turtle, in pixels\n",
            "\n",
            "DATA\n",
            "    DEFAULT_BACKGROUND_COLOR = 'black'\n",
            "    DEFAULT_IS_PEN_DOWN = True\n",
            "    DEFAULT_PEN_COLOR = 'white'\n",
            "    DEFAULT_PEN_WIDTH = 4\n",
            "    DEFAULT_SPEED = 4\n",
            "    DEFAULT_SVG_LINES_STRING = ''\n",
            "    DEFAULT_TURTLE_DEGREE = 270\n",
            "    DEFAULT_TURTLE_VISIBILITY = True\n",
            "    DEFAULT_WINDOW_SIZE = (800, 500)\n",
            "    SPEED_TO_SEC_MAP = {1: 1.5, 2: 0.9, 3: 0.7, 4: 0.5, 5: 0.3, 6: 0.18, 7...\n",
            "    SVG_TEMPLATE = '\\n      <svg width=\"{window_width}\" height=\"{wind...  ...\n",
            "    TURTLE_SVG_TEMPLATE = '\\n      <g visibility={visibility} transform=\"r...\n",
            "    VALID_COLORS = ('white', 'yellow', 'orange', 'red', 'green', 'blue', '...\n",
            "    background_color = 'black'\n",
            "    drawing_window = <DisplayHandle display_id=2214ceae5bfcbdbd049dbf364a6...\n",
            "    is_pen_down = True\n",
            "    is_turtle_visible = True\n",
            "    pen_color = 'red'\n",
            "    pen_width = 15\n",
            "    svg_lines_string = '<line x1=\"400\" y1=\"250\" x2=\"400.0\" y2=\"200.0\" st.....\n",
            "    timeout = 0.5\n",
            "    turtle_degree = 270\n",
            "    turtle_pos = (400.0, 250.0)\n",
            "    window_size = (800, 500)\n",
            "\n",
            "FILE\n",
            "    /usr/local/lib/python3.6/dist-packages/ColabTurtle/Turtle.py\n",
            "\n",
            "\n",
            "None\n"
          ],
          "name": "stdout"
        }
      ]
    },
    {
      "cell_type": "markdown",
      "metadata": {
        "id": "jQM2d3rjdYaf"
      },
      "source": [
        "Exercício 4"
      ]
    },
    {
      "cell_type": "code",
      "metadata": {
        "id": "FCMxFEp-dXXD",
        "outputId": "de7a4ef6-33b0-43c1-b488-b9a74e2823e5",
        "colab": {
          "base_uri": "https://localhost:8080/",
          "height": 521
        }
      },
      "source": [
        "estela.initializeTurtle()\n",
        "estela.speed(9)\n",
        "\n",
        "for i in range(4):\n",
        "  estela.forward(90)\n",
        "  estela.right(90)"
      ],
      "execution_count": null,
      "outputs": [
        {
          "output_type": "display_data",
          "data": {
            "text/html": [
              "\n",
              "      <svg width=\"800\" height=\"500\">\n",
              "        <rect width=\"100%\" height=\"100%\" fill=\"black\"/>\n",
              "        <line x1=\"400\" y1=\"250\" x2=\"400.0\" y2=\"160.0\" stroke-linecap=\"round\" style=\"stroke:white;stroke-width:4\"/><line x1=\"400.0\" y1=\"160.0\" x2=\"490.0\" y2=\"160.0\" stroke-linecap=\"round\" style=\"stroke:white;stroke-width:4\"/><line x1=\"490.0\" y1=\"160.0\" x2=\"490.0\" y2=\"250.0\" stroke-linecap=\"round\" style=\"stroke:white;stroke-width:4\"/><line x1=\"490.0\" y1=\"250.0\" x2=\"400.0\" y2=\"250.0\" stroke-linecap=\"round\" style=\"stroke:white;stroke-width:4\"/>\n",
              "        \n",
              "      <g visibility=visible transform=\"rotate(180,400.0,250.0) translate(400.0, 250.0)\">\n",
              "        <circle stroke=\"white\" stroke-width=\"3\" fill=\"transparent\" r=\"12\" cx=\"0\" cy=\"0\"/>\n",
              "        <polygon points=\"0,19 3,16 -3,16\" style=\"fill:white;stroke:white;stroke-width:2\"/>\n",
              "      </g>\n",
              "    \n",
              "      </svg>\n",
              "    "
            ],
            "text/plain": [
              "<IPython.core.display.HTML object>"
            ]
          },
          "metadata": {
            "tags": []
          }
        }
      ]
    },
    {
      "cell_type": "code",
      "metadata": {
        "id": "Nh9DJUdJd4Rz",
        "outputId": "bbb0c6b8-3fe6-471a-be88-c09961572e0d",
        "colab": {
          "base_uri": "https://localhost:8080/",
          "height": 521
        }
      },
      "source": [
        "estela.initializeTurtle()\n",
        "\n",
        "initial_angle = 90\n",
        "\n",
        "estela.left(90)\n",
        "for i in range(5):\n",
        "  estela.forward(200)\n",
        "  estela.left(180 - 36)"
      ],
      "execution_count": null,
      "outputs": [
        {
          "output_type": "display_data",
          "data": {
            "text/html": [
              "\n",
              "      <svg width=\"800\" height=\"500\">\n",
              "        <rect width=\"100%\" height=\"100%\" fill=\"black\"/>\n",
              "        <line x1=\"400\" y1=\"250\" x2=\"200.0\" y2=\"250.00000000000003\" stroke-linecap=\"round\" style=\"stroke:white;stroke-width:4\"/><line x1=\"200.0\" y1=\"250.00000000000003\" x2=\"361.8033988749895\" y2=\"367.55705045849464\" stroke-linecap=\"round\" style=\"stroke:white;stroke-width:4\"/><line x1=\"361.8033988749895\" y1=\"367.55705045849464\" x2=\"300.0\" y2=\"177.34574719946394\" stroke-linecap=\"round\" style=\"stroke:white;stroke-width:4\"/><line x1=\"300.0\" y1=\"177.34574719946394\" x2=\"238.19660112501055\" y2=\"367.5570504584947\" stroke-linecap=\"round\" style=\"stroke:white;stroke-width:4\"/><line x1=\"238.19660112501055\" y1=\"367.5570504584947\" x2=\"400.0\" y2=\"250.00000000000003\" stroke-linecap=\"round\" style=\"stroke:white;stroke-width:4\"/>\n",
              "        \n",
              "      <g visibility=visible transform=\"rotate(90,400.0,250.00000000000003) translate(400.0, 250.00000000000003)\">\n",
              "        <circle stroke=\"white\" stroke-width=\"3\" fill=\"transparent\" r=\"12\" cx=\"0\" cy=\"0\"/>\n",
              "        <polygon points=\"0,19 3,16 -3,16\" style=\"fill:white;stroke:white;stroke-width:2\"/>\n",
              "      </g>\n",
              "    \n",
              "      </svg>\n",
              "    "
            ],
            "text/plain": [
              "<IPython.core.display.HTML object>"
            ]
          },
          "metadata": {
            "tags": []
          }
        }
      ]
    },
    {
      "cell_type": "markdown",
      "metadata": {
        "id": "gjmcp-_Nfj1k"
      },
      "source": [
        "Exercício 6"
      ]
    },
    {
      "cell_type": "code",
      "metadata": {
        "id": "46kpPPe-foxt",
        "outputId": "fa8f1089-e5d5-4907-f7db-12659786ed92",
        "colab": {
          "base_uri": "https://localhost:8080/",
          "height": 521
        }
      },
      "source": [
        "estela.initializeTurtle()\n",
        "\n",
        "def star(size):\n",
        "  estela.left(90)\n",
        "  for i in range(5):\n",
        "    estela.forward(size)\n",
        "    estela.left(144)\n",
        "\n",
        "for i in range (3):\n",
        "  star(80)\n",
        "  estela.penup()\n",
        "\n",
        "  estela.right(180)\n",
        "  estela.forward(150)\n",
        "  estela.left(90)\n",
        "\n",
        "  estela.pendown()"
      ],
      "execution_count": null,
      "outputs": [
        {
          "output_type": "display_data",
          "data": {
            "text/html": [
              "\n",
              "      <svg width=\"800\" height=\"500\">\n",
              "        <rect width=\"100%\" height=\"100%\" fill=\"black\"/>\n",
              "        <line x1=\"400\" y1=\"250\" x2=\"320.0\" y2=\"250.0\" stroke-linecap=\"round\" style=\"stroke:white;stroke-width:4\"/><line x1=\"320.0\" y1=\"250.0\" x2=\"384.7213595499958\" y2=\"297.02282018339787\" stroke-linecap=\"round\" style=\"stroke:white;stroke-width:4\"/><line x1=\"384.7213595499958\" y1=\"297.02282018339787\" x2=\"360.0\" y2=\"220.93829887978558\" stroke-linecap=\"round\" style=\"stroke:white;stroke-width:4\"/><line x1=\"360.0\" y1=\"220.93829887978558\" x2=\"335.2786404500042\" y2=\"297.02282018339787\" stroke-linecap=\"round\" style=\"stroke:white;stroke-width:4\"/><line x1=\"335.2786404500042\" y1=\"297.02282018339787\" x2=\"400.0\" y2=\"250.0\" stroke-linecap=\"round\" style=\"stroke:white;stroke-width:4\"/><line x1=\"550.0\" y1=\"250.0\" x2=\"470.0\" y2=\"250.0\" stroke-linecap=\"round\" style=\"stroke:white;stroke-width:4\"/><line x1=\"470.0\" y1=\"250.0\" x2=\"534.7213595499958\" y2=\"297.02282018339787\" stroke-linecap=\"round\" style=\"stroke:white;stroke-width:4\"/><line x1=\"534.7213595499958\" y1=\"297.02282018339787\" x2=\"510.0\" y2=\"220.93829887978558\" stroke-linecap=\"round\" style=\"stroke:white;stroke-width:4\"/><line x1=\"510.0\" y1=\"220.93829887978558\" x2=\"485.2786404500042\" y2=\"297.02282018339787\" stroke-linecap=\"round\" style=\"stroke:white;stroke-width:4\"/><line x1=\"485.2786404500042\" y1=\"297.02282018339787\" x2=\"550.0\" y2=\"250.0\" stroke-linecap=\"round\" style=\"stroke:white;stroke-width:4\"/><line x1=\"700.0\" y1=\"250.0\" x2=\"620.0\" y2=\"250.0\" stroke-linecap=\"round\" style=\"stroke:white;stroke-width:4\"/><line x1=\"620.0\" y1=\"250.0\" x2=\"684.7213595499958\" y2=\"297.02282018339787\" stroke-linecap=\"round\" style=\"stroke:white;stroke-width:4\"/><line x1=\"684.7213595499958\" y1=\"297.02282018339787\" x2=\"660.0\" y2=\"220.93829887978558\" stroke-linecap=\"round\" style=\"stroke:white;stroke-width:4\"/><line x1=\"660.0\" y1=\"220.93829887978558\" x2=\"635.2786404500042\" y2=\"297.02282018339787\" stroke-linecap=\"round\" style=\"stroke:white;stroke-width:4\"/><line x1=\"635.2786404500042\" y1=\"297.02282018339787\" x2=\"700.0\" y2=\"250.0\" stroke-linecap=\"round\" style=\"stroke:white;stroke-width:4\"/>\n",
              "        \n",
              "      <g visibility=visible transform=\"rotate(180,850.0,250.0) translate(850.0, 250.0)\">\n",
              "        <circle stroke=\"white\" stroke-width=\"3\" fill=\"transparent\" r=\"12\" cx=\"0\" cy=\"0\"/>\n",
              "        <polygon points=\"0,19 3,16 -3,16\" style=\"fill:white;stroke:white;stroke-width:2\"/>\n",
              "      </g>\n",
              "    \n",
              "      </svg>\n",
              "    "
            ],
            "text/plain": [
              "<IPython.core.display.HTML object>"
            ]
          },
          "metadata": {
            "tags": []
          }
        }
      ]
    },
    {
      "cell_type": "markdown",
      "metadata": {
        "id": "yWugC5XAjNDd"
      },
      "source": [
        "Parte 2"
      ]
    },
    {
      "cell_type": "markdown",
      "metadata": {
        "id": "ja3em2F_jT3y"
      },
      "source": [
        "Exercicio 1"
      ]
    },
    {
      "cell_type": "code",
      "metadata": {
        "id": "0ubGxQfijR14",
        "outputId": "1f83ddb7-8e1f-4a48-97b7-42e4fe392263",
        "colab": {
          "base_uri": "https://localhost:8080/",
          "height": 521
        }
      },
      "source": [
        "estela.initializeTurtle()\n",
        "estela.speed(10)\n",
        "\n",
        "def polygon(estela,lenght, n):\n",
        "  alfa = 360/n\n",
        "\n",
        "  for i in range(n):\n",
        "    estela.forward(lenght)\n",
        "    estela.left(alfa)\n",
        "\n",
        "polygon(estela, 10, 50)"
      ],
      "execution_count": null,
      "outputs": [
        {
          "output_type": "display_data",
          "data": {
            "text/html": [
              "\n",
              "      <svg width=\"800\" height=\"500\">\n",
              "        <rect width=\"100%\" height=\"100%\" fill=\"black\"/>\n",
              "        <line x1=\"400\" y1=\"250\" x2=\"400.0\" y2=\"240.0\" stroke-linecap=\"round\" style=\"stroke:white;stroke-width:4\"/><line x1=\"400.0\" y1=\"240.0\" x2=\"398.74666766435695\" y2=\"230.07885298685522\" stroke-linecap=\"round\" style=\"stroke:white;stroke-width:4\"/><line x1=\"398.74666766435695\" y1=\"230.07885298685522\" x2=\"396.2597687927084\" y2=\"220.3930213755689\" stroke-linecap=\"round\" style=\"stroke:white;stroke-width:4\"/><line x1=\"396.2597687927084\" y1=\"220.3930213755689\" x2=\"392.57852326586163\" y2=\"211.0952565166864\" stroke-linecap=\"round\" style=\"stroke:white;stroke-width:4\"/><line x1=\"392.57852326586163\" y1=\"211.0952565166864\" x2=\"387.7609865248445\" y2=\"202.33218971624774\" stroke-linecap=\"round\" style=\"stroke:white;stroke-width:4\"/><line x1=\"387.7609865248445\" y1=\"202.33218971624774\" x2=\"381.88313400191976\" y2=\"194.24201977249825\" stroke-linecap=\"round\" style=\"stroke:white;stroke-width:4\"/><line x1=\"381.88313400191976\" y1=\"194.24201977249825\" x2=\"375.0376629426329\" y2=\"186.95233349828413\" stroke-linecap=\"round\" style=\"stroke:white;stroke-width:4\"/><line x1=\"375.0376629426329\" y1=\"186.95233349828413\" x2=\"367.33253051487503\" y2=\"180.57809360079722\" stroke-linecap=\"round\" style=\"stroke:white;stroke-width:4\"/><line x1=\"367.33253051487503\" y1=\"180.57809360079722\" x2=\"358.8892512598549\" y2=\"175.21982565100723\" stroke-linecap=\"round\" style=\"stroke:white;stroke-width:4\"/><line x1=\"358.8892512598549\" y1=\"175.21982565100723\" x2=\"349.8409807351947\" y2=\"170.96203273535647\" stroke-linecap=\"round\" style=\"stroke:white;stroke-width:4\"/><line x1=\"349.8409807351947\" y1=\"170.96203273535647\" x2=\"340.33041557224317\" y2=\"167.871862791607\" stroke-linecap=\"round\" style=\"stroke:white;stroke-width:4\"/><line x1=\"340.33041557224317\" y1=\"167.871862791607\" x2=\"330.5075430649563\" y2=\"165.99804964574972\" stroke-linecap=\"round\" style=\"stroke:white;stroke-width:4\"/><line x1=\"330.5075430649563\" y1=\"165.99804964574972\" x2=\"320.52727578067356\" y2=\"165.37014445045656\" stroke-linecap=\"round\" style=\"stroke:white;stroke-width:4\"/><line x1=\"320.52727578067356\" y1=\"165.37014445045656\" x2=\"310.54700849639084\" y2=\"165.99804964574966\" stroke-linecap=\"round\" style=\"stroke:white;stroke-width:4\"/><line x1=\"310.54700849639084\" y1=\"165.99804964574966\" x2=\"300.72413598910396\" y2=\"167.87186279160687\" stroke-linecap=\"round\" style=\"stroke:white;stroke-width:4\"/><line x1=\"300.72413598910396\" y1=\"167.87186279160687\" x2=\"291.2135708261524\" y2=\"170.96203273535633\" stroke-linecap=\"round\" style=\"stroke:white;stroke-width:4\"/><line x1=\"291.2135708261524\" y1=\"170.96203273535633\" x2=\"282.1653003014922\" y2=\"175.21982565100703\" stroke-linecap=\"round\" style=\"stroke:white;stroke-width:4\"/><line x1=\"282.1653003014922\" y1=\"175.21982565100703\" x2=\"273.72202104647204\" y2=\"180.57809360079696\" stroke-linecap=\"round\" style=\"stroke:white;stroke-width:4\"/><line x1=\"273.72202104647204\" y1=\"180.57809360079696\" x2=\"266.0168886187141\" y2=\"186.95233349828382\" stroke-linecap=\"round\" style=\"stroke:white;stroke-width:4\"/><line x1=\"266.0168886187141\" y1=\"186.95233349828382\" x2=\"259.1714175594272\" y2=\"194.2420197724979\" stroke-linecap=\"round\" style=\"stroke:white;stroke-width:4\"/><line x1=\"259.1714175594272\" y1=\"194.2420197724979\" x2=\"253.29356503650243\" y2=\"202.33218971624737\" stroke-linecap=\"round\" style=\"stroke:white;stroke-width:4\"/><line x1=\"253.29356503650243\" y1=\"202.33218971624737\" x2=\"248.47602829548524\" y2=\"211.095256516686\" stroke-linecap=\"round\" style=\"stroke:white;stroke-width:4\"/><line x1=\"248.47602829548524\" y1=\"211.095256516686\" x2=\"244.7947827686384\" y2=\"220.39302137556848\" stroke-linecap=\"round\" style=\"stroke:white;stroke-width:4\"/><line x1=\"244.7947827686384\" y1=\"220.39302137556848\" x2=\"242.30788389698984\" y2=\"230.07885298685477\" stroke-linecap=\"round\" style=\"stroke:white;stroke-width:4\"/><line x1=\"242.30788389698984\" y1=\"230.07885298685477\" x2=\"241.05455156134676\" y2=\"239.99999999999955\" stroke-linecap=\"round\" style=\"stroke:white;stroke-width:4\"/><line x1=\"241.05455156134676\" y1=\"239.99999999999955\" x2=\"241.05455156134673\" y2=\"249.99999999999955\" stroke-linecap=\"round\" style=\"stroke:white;stroke-width:4\"/><line x1=\"241.05455156134673\" y1=\"249.99999999999955\" x2=\"242.30788389698975\" y2=\"259.9211470131443\" stroke-linecap=\"round\" style=\"stroke:white;stroke-width:4\"/><line x1=\"242.30788389698975\" y1=\"259.9211470131443\" x2=\"244.79478276863827\" y2=\"269.60697862443067\" stroke-linecap=\"round\" style=\"stroke:white;stroke-width:4\"/><line x1=\"244.79478276863827\" y1=\"269.60697862443067\" x2=\"248.476028295485\" y2=\"278.9047434833132\" stroke-linecap=\"round\" style=\"stroke:white;stroke-width:4\"/><line x1=\"248.476028295485\" y1=\"278.9047434833132\" x2=\"253.29356503650214\" y2=\"287.66781028375186\" stroke-linecap=\"round\" style=\"stroke:white;stroke-width:4\"/><line x1=\"253.29356503650214\" y1=\"287.66781028375186\" x2=\"259.17141755942686\" y2=\"295.7579802275014\" stroke-linecap=\"round\" style=\"stroke:white;stroke-width:4\"/><line x1=\"259.17141755942686\" y1=\"295.7579802275014\" x2=\"266.0168886187137\" y2=\"303.0476665017155\" stroke-linecap=\"round\" style=\"stroke:white;stroke-width:4\"/><line x1=\"266.0168886187137\" y1=\"303.0476665017155\" x2=\"273.7220210464716\" y2=\"309.42190639920244\" stroke-linecap=\"round\" style=\"stroke:white;stroke-width:4\"/><line x1=\"273.7220210464716\" y1=\"309.42190639920244\" x2=\"282.1653003014917\" y2=\"314.78017434899243\" stroke-linecap=\"round\" style=\"stroke:white;stroke-width:4\"/><line x1=\"282.1653003014917\" y1=\"314.78017434899243\" x2=\"291.2135708261519\" y2=\"319.0379672646432\" stroke-linecap=\"round\" style=\"stroke:white;stroke-width:4\"/><line x1=\"291.2135708261519\" y1=\"319.0379672646432\" x2=\"300.72413598910344\" y2=\"322.12813720839273\" stroke-linecap=\"round\" style=\"stroke:white;stroke-width:4\"/><line x1=\"300.72413598910344\" y1=\"322.12813720839273\" x2=\"310.54700849639033\" y2=\"324.00195035425\" stroke-linecap=\"round\" style=\"stroke:white;stroke-width:4\"/><line x1=\"310.54700849639033\" y1=\"324.00195035425\" x2=\"320.52727578067305\" y2=\"324.6298555495432\" stroke-linecap=\"round\" style=\"stroke:white;stroke-width:4\"/><line x1=\"320.52727578067305\" y1=\"324.6298555495432\" x2=\"330.50754306495577\" y2=\"324.0019503542501\" stroke-linecap=\"round\" style=\"stroke:white;stroke-width:4\"/><line x1=\"330.50754306495577\" y1=\"324.0019503542501\" x2=\"340.33041557224266\" y2=\"322.1281372083929\" stroke-linecap=\"round\" style=\"stroke:white;stroke-width:4\"/><line x1=\"340.33041557224266\" y1=\"322.1281372083929\" x2=\"349.8409807351942\" y2=\"319.03796726464344\" stroke-linecap=\"round\" style=\"stroke:white;stroke-width:4\"/><line x1=\"349.8409807351942\" y1=\"319.03796726464344\" x2=\"358.8892512598544\" y2=\"314.7801743489928\" stroke-linecap=\"round\" style=\"stroke:white;stroke-width:4\"/><line x1=\"358.8892512598544\" y1=\"314.7801743489928\" x2=\"367.3325305148746\" y2=\"309.42190639920284\" stroke-linecap=\"round\" style=\"stroke:white;stroke-width:4\"/><line x1=\"367.3325305148746\" y1=\"309.42190639920284\" x2=\"375.0376629426325\" y2=\"303.047666501716\" stroke-linecap=\"round\" style=\"stroke:white;stroke-width:4\"/><line x1=\"375.0376629426325\" y1=\"303.047666501716\" x2=\"381.8831340019194\" y2=\"295.7579802275019\" stroke-linecap=\"round\" style=\"stroke:white;stroke-width:4\"/><line x1=\"381.8831340019194\" y1=\"295.7579802275019\" x2=\"387.7609865248442\" y2=\"287.66781028375243\" stroke-linecap=\"round\" style=\"stroke:white;stroke-width:4\"/><line x1=\"387.7609865248442\" y1=\"287.66781028375243\" x2=\"392.5785232658614\" y2=\"278.90474348331384\" stroke-linecap=\"round\" style=\"stroke:white;stroke-width:4\"/><line x1=\"392.5785232658614\" y1=\"278.90474348331384\" x2=\"396.25976879270826\" y2=\"269.60697862443135\" stroke-linecap=\"round\" style=\"stroke:white;stroke-width:4\"/><line x1=\"396.25976879270826\" y1=\"269.60697862443135\" x2=\"398.74666766435683\" y2=\"259.92114701314506\" stroke-linecap=\"round\" style=\"stroke:white;stroke-width:4\"/><line x1=\"398.74666766435683\" y1=\"259.92114701314506\" x2=\"399.99999999999994\" y2=\"250.00000000000028\" stroke-linecap=\"round\" style=\"stroke:white;stroke-width:4\"/>\n",
              "        \n",
              "      <g visibility=visible transform=\"rotate(180.00000000000034,399.99999999999994,250.00000000000028) translate(399.99999999999994, 250.00000000000028)\">\n",
              "        <circle stroke=\"white\" stroke-width=\"3\" fill=\"transparent\" r=\"12\" cx=\"0\" cy=\"0\"/>\n",
              "        <polygon points=\"0,19 3,16 -3,16\" style=\"fill:white;stroke:white;stroke-width:2\"/>\n",
              "      </g>\n",
              "    \n",
              "      </svg>\n",
              "    "
            ],
            "text/plain": [
              "<IPython.core.display.HTML object>"
            ]
          },
          "metadata": {
            "tags": []
          }
        }
      ]
    }
  ]
}