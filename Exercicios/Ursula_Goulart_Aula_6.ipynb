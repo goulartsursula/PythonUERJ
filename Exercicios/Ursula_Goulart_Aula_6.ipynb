{
  "nbformat": 4,
  "nbformat_minor": 0,
  "metadata": {
    "colab": {
      "name": "Ursula_Goulart_Aula_6",
      "provenance": [],
      "authorship_tag": "ABX9TyOYNDSF66Pa8LP7lcubdIfe",
      "include_colab_link": true
    },
    "kernelspec": {
      "name": "python3",
      "display_name": "Python 3"
    }
  },
  "cells": [
    {
      "cell_type": "markdown",
      "metadata": {
        "id": "view-in-github",
        "colab_type": "text"
      },
      "source": [
        "<a href=\"https://colab.research.google.com/github/goulartsursula/python-uerj/blob/master/Exercicios/Ursula_Goulart_Aula_6.ipynb\" target=\"_parent\"><img src=\"https://colab.research.google.com/assets/colab-badge.svg\" alt=\"Open In Colab\"/></a>"
      ]
    },
    {
      "cell_type": "code",
      "metadata": {
        "id": "xkivLjHlNQhS",
        "outputId": "a5b0ee69-7fa8-48af-ccdf-9e778310f53d",
        "colab": {
          "base_uri": "https://localhost:8080/"
        }
      },
      "source": [
        "!pip3 install ColabTurtle"
      ],
      "execution_count": null,
      "outputs": [
        {
          "output_type": "stream",
          "text": [
            "Collecting ColabTurtle\n",
            "  Downloading https://files.pythonhosted.org/packages/49/01/6da7091c2c6c917cce99c000b89acb6aa27b66ef6eafc0c0ccf59b98694f/ColabTurtle-2.0.0.tar.gz\n",
            "Building wheels for collected packages: ColabTurtle\n",
            "  Building wheel for ColabTurtle (setup.py) ... \u001b[?25l\u001b[?25hdone\n",
            "  Created wheel for ColabTurtle: filename=ColabTurtle-2.0.0-cp36-none-any.whl size=4032 sha256=5c61178d471e1c51fa763245537d9004fd70f8cfba7143bb167c32c686d74cb6\n",
            "  Stored in directory: /root/.cache/pip/wheels/a8/29/ec/ad346f0042ae467cc74f4378916348faf975b07890651dcae7\n",
            "Successfully built ColabTurtle\n",
            "Installing collected packages: ColabTurtle\n",
            "Successfully installed ColabTurtle-2.0.0\n"
          ],
          "name": "stdout"
        }
      ]
    },
    {
      "cell_type": "code",
      "metadata": {
        "id": "rBLBqPoPOJra",
        "outputId": "23d78b37-d546-4b03-e106-063408d41e89",
        "colab": {
          "base_uri": "https://localhost:8080/",
          "height": 521
        }
      },
      "source": [
        "import ColabTurtle.Turtle as tess\n",
        "\n",
        "def draw_bar(t, height):\n",
        "  t.forward(height)\n",
        "  t.right(90)\n",
        "  t.forward(40)\n",
        "  t.right(90)\n",
        "  t.forward(height)\n",
        "  t.left(90)\n",
        "  t.forward(0)\n",
        "  t.left(90)\n",
        "\n",
        "tess.initializeTurtle()\n",
        "\n",
        "tess.color(\"red\")\n",
        "tess.bgcolor(\"white\")\n",
        "tess.penup()\n",
        "tess.goto(10,450)\n",
        "tess.pendown()\n",
        "\n",
        "xs = [48,117,200,240,160,260,220]\n",
        "ys = [40,100,240,222,156,260,210]\n",
        "\n",
        "for a in xs:\n",
        "  if type(xs) is list:\n",
        "    draw_bar(tess, a)\n",
        "  else:\n",
        "    print('xs is not a list.')\n",
        "\n",
        "for b in ys:\n",
        "  if type(ys) is list:\n",
        "    tess.color(\"blue\")\n",
        "    draw_bar(tess, b)\n",
        "  else:\n",
        "    print('ys is not a list.')\n",
        "\n"
      ],
      "execution_count": 80,
      "outputs": [
        {
          "output_type": "display_data",
          "data": {
            "text/html": [
              "\n",
              "      <svg width=\"800\" height=\"500\">\n",
              "        <rect width=\"100%\" height=\"100%\" fill=\"white\"/>\n",
              "        <line x1=\"10\" y1=\"450\" x2=\"9.999999999999991\" y2=\"402.0\" stroke-linecap=\"round\" style=\"stroke:red;stroke-width:4\"/><line x1=\"9.999999999999991\" y1=\"402.0\" x2=\"49.99999999999999\" y2=\"402.0\" stroke-linecap=\"round\" style=\"stroke:red;stroke-width:4\"/><line x1=\"49.99999999999999\" y1=\"402.0\" x2=\"49.99999999999999\" y2=\"450.0\" stroke-linecap=\"round\" style=\"stroke:red;stroke-width:4\"/><line x1=\"49.99999999999999\" y1=\"450.0\" x2=\"49.99999999999999\" y2=\"450.0\" stroke-linecap=\"round\" style=\"stroke:red;stroke-width:4\"/><line x1=\"49.99999999999999\" y1=\"450.0\" x2=\"49.99999999999997\" y2=\"333.0\" stroke-linecap=\"round\" style=\"stroke:red;stroke-width:4\"/><line x1=\"49.99999999999997\" y1=\"333.0\" x2=\"89.99999999999997\" y2=\"333.0\" stroke-linecap=\"round\" style=\"stroke:red;stroke-width:4\"/><line x1=\"89.99999999999997\" y1=\"333.0\" x2=\"89.99999999999999\" y2=\"450.0\" stroke-linecap=\"round\" style=\"stroke:red;stroke-width:4\"/><line x1=\"89.99999999999999\" y1=\"450.0\" x2=\"89.99999999999999\" y2=\"450.0\" stroke-linecap=\"round\" style=\"stroke:red;stroke-width:4\"/><line x1=\"89.99999999999999\" y1=\"450.0\" x2=\"89.99999999999994\" y2=\"250.0\" stroke-linecap=\"round\" style=\"stroke:red;stroke-width:4\"/><line x1=\"89.99999999999994\" y1=\"250.0\" x2=\"129.99999999999994\" y2=\"250.0\" stroke-linecap=\"round\" style=\"stroke:red;stroke-width:4\"/><line x1=\"129.99999999999994\" y1=\"250.0\" x2=\"129.99999999999994\" y2=\"450.0\" stroke-linecap=\"round\" style=\"stroke:red;stroke-width:4\"/><line x1=\"129.99999999999994\" y1=\"450.0\" x2=\"129.99999999999994\" y2=\"450.0\" stroke-linecap=\"round\" style=\"stroke:red;stroke-width:4\"/><line x1=\"129.99999999999994\" y1=\"450.0\" x2=\"129.9999999999999\" y2=\"210.0\" stroke-linecap=\"round\" style=\"stroke:red;stroke-width:4\"/><line x1=\"129.9999999999999\" y1=\"210.0\" x2=\"169.9999999999999\" y2=\"210.0\" stroke-linecap=\"round\" style=\"stroke:red;stroke-width:4\"/><line x1=\"169.9999999999999\" y1=\"210.0\" x2=\"169.99999999999991\" y2=\"450.0\" stroke-linecap=\"round\" style=\"stroke:red;stroke-width:4\"/><line x1=\"169.99999999999991\" y1=\"450.0\" x2=\"169.99999999999991\" y2=\"450.0\" stroke-linecap=\"round\" style=\"stroke:red;stroke-width:4\"/><line x1=\"169.99999999999991\" y1=\"450.0\" x2=\"169.9999999999999\" y2=\"290.0\" stroke-linecap=\"round\" style=\"stroke:red;stroke-width:4\"/><line x1=\"169.9999999999999\" y1=\"290.0\" x2=\"209.9999999999999\" y2=\"290.0\" stroke-linecap=\"round\" style=\"stroke:red;stroke-width:4\"/><line x1=\"209.9999999999999\" y1=\"290.0\" x2=\"209.9999999999999\" y2=\"450.0\" stroke-linecap=\"round\" style=\"stroke:red;stroke-width:4\"/><line x1=\"209.9999999999999\" y1=\"450.0\" x2=\"209.9999999999999\" y2=\"450.0\" stroke-linecap=\"round\" style=\"stroke:red;stroke-width:4\"/><line x1=\"209.9999999999999\" y1=\"450.0\" x2=\"209.99999999999983\" y2=\"190.0\" stroke-linecap=\"round\" style=\"stroke:red;stroke-width:4\"/><line x1=\"209.99999999999983\" y1=\"190.0\" x2=\"249.99999999999983\" y2=\"190.0\" stroke-linecap=\"round\" style=\"stroke:red;stroke-width:4\"/><line x1=\"249.99999999999983\" y1=\"190.0\" x2=\"249.99999999999986\" y2=\"450.0\" stroke-linecap=\"round\" style=\"stroke:red;stroke-width:4\"/><line x1=\"249.99999999999986\" y1=\"450.0\" x2=\"249.99999999999986\" y2=\"450.0\" stroke-linecap=\"round\" style=\"stroke:red;stroke-width:4\"/><line x1=\"249.99999999999986\" y1=\"450.0\" x2=\"249.99999999999983\" y2=\"230.0\" stroke-linecap=\"round\" style=\"stroke:red;stroke-width:4\"/><line x1=\"249.99999999999983\" y1=\"230.0\" x2=\"289.99999999999983\" y2=\"230.0\" stroke-linecap=\"round\" style=\"stroke:red;stroke-width:4\"/><line x1=\"289.99999999999983\" y1=\"230.0\" x2=\"289.99999999999983\" y2=\"450.0\" stroke-linecap=\"round\" style=\"stroke:red;stroke-width:4\"/><line x1=\"289.99999999999983\" y1=\"450.0\" x2=\"289.99999999999983\" y2=\"450.0\" stroke-linecap=\"round\" style=\"stroke:red;stroke-width:4\"/><line x1=\"289.99999999999983\" y1=\"450.0\" x2=\"289.99999999999983\" y2=\"410.0\" stroke-linecap=\"round\" style=\"stroke:blue;stroke-width:4\"/><line x1=\"289.99999999999983\" y1=\"410.0\" x2=\"329.99999999999983\" y2=\"410.0\" stroke-linecap=\"round\" style=\"stroke:blue;stroke-width:4\"/><line x1=\"329.99999999999983\" y1=\"410.0\" x2=\"329.99999999999983\" y2=\"450.0\" stroke-linecap=\"round\" style=\"stroke:blue;stroke-width:4\"/><line x1=\"329.99999999999983\" y1=\"450.0\" x2=\"329.99999999999983\" y2=\"450.0\" stroke-linecap=\"round\" style=\"stroke:blue;stroke-width:4\"/><line x1=\"329.99999999999983\" y1=\"450.0\" x2=\"329.99999999999983\" y2=\"350.0\" stroke-linecap=\"round\" style=\"stroke:blue;stroke-width:4\"/><line x1=\"329.99999999999983\" y1=\"350.0\" x2=\"369.99999999999983\" y2=\"350.0\" stroke-linecap=\"round\" style=\"stroke:blue;stroke-width:4\"/><line x1=\"369.99999999999983\" y1=\"350.0\" x2=\"369.99999999999983\" y2=\"450.0\" stroke-linecap=\"round\" style=\"stroke:blue;stroke-width:4\"/><line x1=\"369.99999999999983\" y1=\"450.0\" x2=\"369.99999999999983\" y2=\"450.0\" stroke-linecap=\"round\" style=\"stroke:blue;stroke-width:4\"/><line x1=\"369.99999999999983\" y1=\"450.0\" x2=\"369.9999999999998\" y2=\"210.0\" stroke-linecap=\"round\" style=\"stroke:blue;stroke-width:4\"/><line x1=\"369.9999999999998\" y1=\"210.0\" x2=\"409.9999999999998\" y2=\"210.0\" stroke-linecap=\"round\" style=\"stroke:blue;stroke-width:4\"/><line x1=\"409.9999999999998\" y1=\"210.0\" x2=\"409.9999999999998\" y2=\"450.0\" stroke-linecap=\"round\" style=\"stroke:blue;stroke-width:4\"/><line x1=\"409.9999999999998\" y1=\"450.0\" x2=\"409.9999999999998\" y2=\"450.0\" stroke-linecap=\"round\" style=\"stroke:blue;stroke-width:4\"/><line x1=\"409.9999999999998\" y1=\"450.0\" x2=\"409.9999999999997\" y2=\"228.0\" stroke-linecap=\"round\" style=\"stroke:blue;stroke-width:4\"/><line x1=\"409.9999999999997\" y1=\"228.0\" x2=\"449.9999999999997\" y2=\"228.0\" stroke-linecap=\"round\" style=\"stroke:blue;stroke-width:4\"/><line x1=\"449.9999999999997\" y1=\"228.0\" x2=\"449.9999999999997\" y2=\"450.0\" stroke-linecap=\"round\" style=\"stroke:blue;stroke-width:4\"/><line x1=\"449.9999999999997\" y1=\"450.0\" x2=\"449.9999999999997\" y2=\"450.0\" stroke-linecap=\"round\" style=\"stroke:blue;stroke-width:4\"/><line x1=\"449.9999999999997\" y1=\"450.0\" x2=\"449.99999999999966\" y2=\"294.0\" stroke-linecap=\"round\" style=\"stroke:blue;stroke-width:4\"/><line x1=\"449.99999999999966\" y1=\"294.0\" x2=\"489.99999999999966\" y2=\"294.0\" stroke-linecap=\"round\" style=\"stroke:blue;stroke-width:4\"/><line x1=\"489.99999999999966\" y1=\"294.0\" x2=\"489.99999999999966\" y2=\"450.0\" stroke-linecap=\"round\" style=\"stroke:blue;stroke-width:4\"/><line x1=\"489.99999999999966\" y1=\"450.0\" x2=\"489.99999999999966\" y2=\"450.0\" stroke-linecap=\"round\" style=\"stroke:blue;stroke-width:4\"/><line x1=\"489.99999999999966\" y1=\"450.0\" x2=\"489.9999999999996\" y2=\"190.0\" stroke-linecap=\"round\" style=\"stroke:blue;stroke-width:4\"/><line x1=\"489.9999999999996\" y1=\"190.0\" x2=\"529.9999999999995\" y2=\"190.0\" stroke-linecap=\"round\" style=\"stroke:blue;stroke-width:4\"/><line x1=\"529.9999999999995\" y1=\"190.0\" x2=\"529.9999999999995\" y2=\"450.0\" stroke-linecap=\"round\" style=\"stroke:blue;stroke-width:4\"/><line x1=\"529.9999999999995\" y1=\"450.0\" x2=\"529.9999999999995\" y2=\"450.0\" stroke-linecap=\"round\" style=\"stroke:blue;stroke-width:4\"/><line x1=\"529.9999999999995\" y1=\"450.0\" x2=\"529.9999999999995\" y2=\"240.0\" stroke-linecap=\"round\" style=\"stroke:blue;stroke-width:4\"/><line x1=\"529.9999999999995\" y1=\"240.0\" x2=\"569.9999999999995\" y2=\"240.0\" stroke-linecap=\"round\" style=\"stroke:blue;stroke-width:4\"/><line x1=\"569.9999999999995\" y1=\"240.0\" x2=\"569.9999999999995\" y2=\"450.0\" stroke-linecap=\"round\" style=\"stroke:blue;stroke-width:4\"/><line x1=\"569.9999999999995\" y1=\"450.0\" x2=\"569.9999999999995\" y2=\"450.0\" stroke-linecap=\"round\" style=\"stroke:blue;stroke-width:4\"/>\n",
              "        \n",
              "      <g visibility=visible transform=\"rotate(180,569.9999999999995,450.0) translate(569.9999999999995, 450.0)\">\n",
              "        <circle stroke=\"blue\" stroke-width=\"3\" fill=\"transparent\" r=\"12\" cx=\"0\" cy=\"0\"/>\n",
              "        <polygon points=\"0,19 3,16 -3,16\" style=\"fill:blue;stroke:blue;stroke-width:2\"/>\n",
              "      </g>\n",
              "    \n",
              "      </svg>\n",
              "    "
            ],
            "text/plain": [
              "<IPython.core.display.HTML object>"
            ]
          },
          "metadata": {
            "tags": []
          }
        }
      ]
    },
    {
      "cell_type": "markdown",
      "metadata": {
        "id": "cPOspHbgpZ76"
      },
      "source": [
        "**Questão desafio:** Faça um programa equivalente ao do item 1., utilizando matplotlib e numpy ao invés de turtle"
      ]
    },
    {
      "cell_type": "code",
      "metadata": {
        "id": "202qmI4jOlUn",
        "outputId": "dbb9bd6e-c05d-41f0-98c7-93fc25b7f82f",
        "colab": {
          "base_uri": "https://localhost:8080/",
          "height": 265
        }
      },
      "source": [
        "import matplotlib.pyplot as plt\n",
        "import numpy as np\n",
        "\n",
        "xs = np.array([48,117,200,240,160,260,220])\n",
        "plt.hist(xs, bins = [0,80,160,220,260])\n",
        "plt.show()"
      ],
      "execution_count": 64,
      "outputs": [
        {
          "output_type": "display_data",
          "data": {
            "image/png": "[encoded data removed]",
            "text/plain": [
              "<Figure size 432x288 with 1 Axes>"
            ]
          },
          "metadata": {
            "tags": [],
            "needs_background": "light"
          }
        }
      ]
    },
    {
      "cell_type": "code",
      "metadata": {
        "id": "F2N3_wXOpRx4"
      },
      "source": [
        ""
      ],
      "execution_count": null,
      "outputs": []
    }
  ]
}