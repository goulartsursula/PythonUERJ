{
  "nbformat": 4,
  "nbformat_minor": 0,
  "metadata": {
    "colab": {
      "name": "ex003.ipynb",
      "provenance": [],
      "collapsed_sections": [],
      "authorship_tag": "ABX9TyPOGQZo9abVcY/KEnxrD8jb",
      "include_colab_link": true
    },
    "kernelspec": {
      "name": "python3",
      "display_name": "Python 3"
    }
  },
  "cells": [
    {
      "cell_type": "markdown",
      "metadata": {
        "id": "view-in-github",
        "colab_type": "text"
      },
      "source": [
        "<a href=\"https://colab.research.google.com/github/goulartsursula/python-uerj/blob/master/Exercicios/Ursula_Goulart_Aula_1.ipynb\" target=\"_parent\"><img src=\"https://colab.research.google.com/assets/colab-badge.svg\" alt=\"Open In Colab\"/></a>"
      ]
    },
    {
      "cell_type": "markdown",
      "metadata": {
        "id": "OkbRhrVZjqDE"
      },
      "source": [
        "**Questão 01:** Se fizermos uma corrida de 10 quilômetros em 43 minutos e 30 segundos, qual será o seu tempo médio por milha? Qual é a sua velocidade média em milhas por hora?"
      ]
    },
    {
      "cell_type": "code",
      "metadata": {
        "id": "EO15z23EkHDd",
        "outputId": "7ef87c17-3198-4afa-b822-6aa4e141bbe8",
        "colab": {
          "base_uri": "https://localhost:8080/",
          "height": 34
        }
      },
      "source": [
        "43 * 60"
      ],
      "execution_count": null,
      "outputs": [
        {
          "output_type": "execute_result",
          "data": {
            "text/plain": [
              "2580"
            ]
          },
          "metadata": {
            "tags": []
          },
          "execution_count": 1
        }
      ]
    },
    {
      "cell_type": "markdown",
      "metadata": {
        "id": "ntzKu3TVkFam"
      },
      "source": [
        "10 quilômetros em 2610 segundos"
      ]
    },
    {
      "cell_type": "code",
      "metadata": {
        "id": "hDW8x5rUj7rf",
        "outputId": "2cce3b46-03c5-48ee-fd81-6ff69b6d510e",
        "colab": {
          "base_uri": "https://localhost:8080/",
          "height": 34
        }
      },
      "source": [
        "(1.61 * 2610) / 10"
      ],
      "execution_count": null,
      "outputs": [
        {
          "output_type": "execute_result",
          "data": {
            "text/plain": [
              "420.21000000000004"
            ]
          },
          "metadata": {
            "tags": []
          },
          "execution_count": 4
        }
      ]
    },
    {
      "cell_type": "markdown",
      "metadata": {
        "id": "wDeaz7OymDnT"
      },
      "source": [
        "Tempo médio por milha é de 420.21 segundos, aproximadamente 7 minutos."
      ]
    },
    {
      "cell_type": "code",
      "metadata": {
        "id": "af8V5QyJngbN",
        "outputId": "a2b25b44-207d-4a38-b7c1-d9361b35d1ca",
        "colab": {
          "base_uri": "https://localhost:8080/",
          "height": 34
        }
      },
      "source": [
        "10 / 1.61"
      ],
      "execution_count": null,
      "outputs": [
        {
          "output_type": "execute_result",
          "data": {
            "text/plain": [
              "6.211180124223602"
            ]
          },
          "metadata": {
            "tags": []
          },
          "execution_count": 9
        }
      ]
    },
    {
      "cell_type": "markdown",
      "metadata": {
        "id": "bJCOB71dnz2U"
      },
      "source": [
        "10km = 6.21 mi"
      ]
    },
    {
      "cell_type": "code",
      "metadata": {
        "id": "-Vk_0wugnu8d",
        "outputId": "e7fb6384-f26a-41e9-e146-d4c80186d621",
        "colab": {
          "base_uri": "https://localhost:8080/",
          "height": 34
        }
      },
      "source": [
        "(2610 / 3600)"
      ],
      "execution_count": null,
      "outputs": [
        {
          "output_type": "execute_result",
          "data": {
            "text/plain": [
              "0.725"
            ]
          },
          "metadata": {
            "tags": []
          },
          "execution_count": 10
        }
      ]
    },
    {
      "cell_type": "markdown",
      "metadata": {
        "id": "uNRwA18SoOcZ"
      },
      "source": [
        "43 minutos e 30 segundos é equivalente a 0.725 horas.\n",
        "\n"
      ]
    },
    {
      "cell_type": "code",
      "metadata": {
        "id": "HB2_7_jioGIl",
        "outputId": "daee90ee-67e6-430a-ff5c-403618799462",
        "colab": {
          "base_uri": "https://localhost:8080/",
          "height": 34
        }
      },
      "source": [
        "6.21 / 0.725"
      ],
      "execution_count": null,
      "outputs": [
        {
          "output_type": "execute_result",
          "data": {
            "text/plain": [
              "8.565517241379311"
            ]
          },
          "metadata": {
            "tags": []
          },
          "execution_count": 11
        }
      ]
    },
    {
      "cell_type": "markdown",
      "metadata": {
        "id": "38MgMsSJomQ0"
      },
      "source": [
        "Velocidade média de 8.566 mi/h"
      ]
    },
    {
      "cell_type": "markdown",
      "metadata": {
        "id": "sp_ZTapI1OvK"
      },
      "source": [
        "**Questão 02:** Desde sua varanda você escuta o som do primeiro fogo artificial do reveillon 3 segundos depois de ver a luz, qual a distância? (o som tem velocidade 343 m/s e a luz ($3\\times 10^8$ m/s)."
      ]
    },
    {
      "cell_type": "code",
      "metadata": {
        "id": "Eny6dTe41dpx"
      },
      "source": [
        "v = 363\n",
        "t = float(input('Depois de quanto tempo que viu a luz ouviu o som do fogo artificial?'))\n",
        "print ('A distância entre a varanda e o fogo artificial é {}m'.format(t*t))"
      ],
      "execution_count": null,
      "outputs": []
    },
    {
      "cell_type": "markdown",
      "metadata": {
        "id": "e3hUkIGP1s6L"
      },
      "source": [
        "**Questão 03:** Ache os zeros da função\n",
        " y = 3 *x^2 - 4 *x -10"
      ]
    },
    {
      "cell_type": "code",
      "metadata": {
        "id": "-0nkf-3H10b8"
      },
      "source": [
        "import math\n",
        "\n",
        "print('Uma função do segunda grau tem a forma y = ax²+ bx +c, sendo c diferente de zero')\n",
        "a = int(input('Insira o valor de a = '))\n",
        "b = int(input('Insira o valor de b = '))\n",
        "c = int(input('Insira o valor de c = '))\n",
        "print('A função é: y = {}x² + {}x + {}'.format(a, b, c))\n",
        "delta = b**2 - 4*a*c\n",
        "raiz = math.sqrt(delta)\n",
        "y1 = ((-1)*b)/(2*a) - ((raiz)/(2*a))\n",
        "y2 = ((-1)*b)/(2*a) + ((raiz)/(2*a))\n",
        "print ('A raízes são {:.2f} e {:.2f}'.format(y1, y2))"
      ],
      "execution_count": null,
      "outputs": []
    },
    {
      "cell_type": "markdown",
      "metadata": {
        "id": "oX8mZkeD142t"
      },
      "source": [
        "**Questão 04:** Se, ao meiodia, a sombra de um poste de 5 m de altura tem apenas 50 cm de comprimento no chão, qual o ângulo zenital do sol?"
      ]
    },
    {
      "cell_type": "code",
      "metadata": {
        "id": "OIJyyqmp2HEi"
      },
      "source": [
        "import math\n",
        "\n",
        "print('O objetivo é calcular o ângulo zenital do sol, para isso é necessário utilizar algo como referência.')\n",
        "altura = float(input('Qual a altura desse objeto?'))\n",
        "comp_sombra = float(input('Qual o comprimento da sombra desde objeto?'))\n",
        "angulo = altura / comp_sombra\n",
        "print('O ângulo zenital do sol é de {:.2f} radianos'.format(math.atan(angulo)))"
      ],
      "execution_count": null,
      "outputs": []
    },
    {
      "cell_type": "markdown",
      "metadata": {
        "id": "8IlTN0To2OMD"
      },
      "source": [
        "**Questão 05:** Calcule o seu $IMC = \\dfrac{M}{A^2}$ (com a massa em Kg e a altura em metros). Um valor saudável estara --em geral-- entre 20-25. Um bebê de 6 meses \"gorducho\" tem 70 cm de \"comprimento\" e 11 kg de massa, qual o IMC dele?"
      ]
    },
    {
      "cell_type": "markdown",
      "metadata": {
        "id": "d00-8JtK2XyG"
      },
      "source": [
        "Informações retiradas do endereço eletrônico da Sociedade Brasileira de Endocrinologia e Metabologia."
      ]
    },
    {
      "cell_type": "code",
      "metadata": {
        "id": "c67gV75d2VAC"
      },
      "source": [
        "print('Cálculo do índice de massa corporal.')\n",
        "altura = float(input('Qual a sua altura? Dê a sua altura em metros.'))\n",
        "peso = float(input('Quanto você pesa? Dê o seu peso em quilogramas.'))\n",
        "imc = peso/(altura**2)\n",
        "if imc<=18.5:\n",
        "  print('Seu IMC é de {:.0f}. Baixo peso. Grau de obesidade 0'.format(imc))\n",
        "elif imc>18.5 and imc<=24.9:\n",
        "  print('Seu IMC é de {:.0f}. Peso normal. Grau de obesidade 0.'.format(imc))\n",
        "elif imc>=25 and imc<=29.9:\n",
        "  print('Seu IMC é de {:.0f}. Sobrepeso. Grau de obesidade I.'.format(imc))\n",
        "elif imc>=30 and imc <=39.9:\n",
        "  print('Seu IMC é de {:.0f}. Obesidade. Grau de obesidade II.'.format(imc))\n",
        "elif imc>40:\n",
        "  print('Seu IMC é de {:.0f}. Obesidade grave. Grau de obesidade III.'.format(imc))"
      ],
      "execution_count": null,
      "outputs": []
    },
    {
      "cell_type": "markdown",
      "metadata": {
        "id": "MNmuSQP42dhM"
      },
      "source": [
        "**Questão 06:** Calcule a velocidade final de um objeto em queda livre a partir de 3 metros de altura (sem resistencia do ar). Calcule o tempo que esse objeto demora para cair."
      ]
    },
    {
      "cell_type": "code",
      "metadata": {
        "id": "v3ies3mt2ign"
      },
      "source": [
        "import math\n",
        "\n",
        "altura = float(input('A que altura está o objeto, em metros?'))\n",
        "velocidade = math.sqrt(2*9.8*altura)\n",
        "tempo = velocidade/9.8\n",
        "print('O objeto atinge uma velocidade final de {} m/s² e chega ao chão em {} segundos.'.format(round(velocidade,2), round(tempo,2)))"
      ],
      "execution_count": null,
      "outputs": []
    }
  ]
}