{
  "nbformat": 4,
  "nbformat_minor": 0,
  "metadata": {
    "colab": {
      "name": "Ursula_Goulart_Aula_3_3.ipynb",
      "provenance": [],
      "authorship_tag": "ABX9TyMK6bwu9otdPrtb1jwNUIVn",
      "include_colab_link": true
    },
    "kernelspec": {
      "name": "python3",
      "display_name": "Python 3"
    }
  },
  "cells": [
    {
      "cell_type": "markdown",
      "metadata": {
        "id": "view-in-github",
        "colab_type": "text"
      },
      "source": [
        "<a href=\"https://colab.research.google.com/github/goulartsursula/python-uerj/blob/master/Exercicios/Ursula_Goulart_Aula_3.ipynb\" target=\"_parent\"><img src=\"https://colab.research.google.com/assets/colab-badge.svg\" alt=\"Open In Colab\"/></a>"
      ]
    },
    {
      "cell_type": "markdown",
      "metadata": {
        "id": "XanSUCud3cle"
      },
      "source": [
        "**Questão 01:** Crie uma funcão que tome um argumento e imprima o valor e o tipo dele."
      ]
    },
    {
      "cell_type": "code",
      "metadata": {
        "id": "cWyZqyVP3cYJ"
      },
      "source": [
        "def argumento_da_função(valor):\n",
        "  print(valor, type (valor))"
      ],
      "execution_count": null,
      "outputs": []
    },
    {
      "cell_type": "code",
      "metadata": {
        "id": "G3VPB6cC3p1W"
      },
      "source": [
        "argumento_da_função(5.6)"
      ],
      "execution_count": null,
      "outputs": []
    },
    {
      "cell_type": "code",
      "metadata": {
        "id": "d2GmViHN3rV7"
      },
      "source": [
        "argumento_da_função('Olá')"
      ],
      "execution_count": null,
      "outputs": []
    },
    {
      "cell_type": "code",
      "metadata": {
        "id": "5WZUvWA43tGr"
      },
      "source": [
        "argumento_da_função(Olá)"
      ],
      "execution_count": null,
      "outputs": []
    },
    {
      "cell_type": "code",
      "metadata": {
        "id": "eUC1lgs53vrk"
      },
      "source": [
        "argumento_da_função(5)"
      ],
      "execution_count": null,
      "outputs": []
    },
    {
      "cell_type": "markdown",
      "metadata": {
        "id": "DDBlvP5E3yD_"
      },
      "source": [
        "Problema com o type.\n",
        "\n",
        "Não consigo fazer um input, sempre retorna uma str, a não ser que eu transforme a informação em int ou float usando x = int(input()) ou x = float(input())."
      ]
    },
    {
      "cell_type": "markdown",
      "metadata": {
        "id": "i6zcSMUU3UTE"
      },
      "source": [
        "**Questão 02:** Crie uma função que calcule e imprima velocidade media de um objeto a partir de uma posição inicial, a final e o tempo transcorrido para um objeto em MRU. Também crie uma funcão que calcule e imprima a velocidade de um objeto a partir da aceleração constante e o tempo (MRUA) (p.ex. queda libre)."
      ]
    },
    {
      "cell_type": "code",
      "metadata": {
        "id": "R9qnuvOs3T76"
      },
      "source": [
        "\n",
        "def velocidade_mru():\n",
        "  x0 = float(input('Qual a posição inicial do objeto, em metros?'))\n",
        "  xf = float(input('Qual a posição final do objeto, em metros?'))\n",
        "  t = float(input('O deslocamento durou quanto tempo, em segundos?'))\n",
        "  vm = (xf-x0)/t \n",
        "  print('A velocidade média é de {:.2f} m/s'.format(vm))\n",
        "\n",
        "def velocidade_mruv():\n",
        "  a = 9.787899\n",
        "  t1 = float(input('Quanto tempo até atingir o chão?'))\n",
        "  v = a*t1\n",
        "  print('A velocidade média é de {:.2f} m/s'.format(v))\n",
        "\n",
        "def velocidade_media():\n",
        "  print('''O que você quer calcular? \n",
        "  [1] Velocidade média em MRU\n",
        "  [2] Velocidade média em MRUV''')\n",
        "  while True:\n",
        "    opcao = int(input('Sua opção é?'))\n",
        "    if opcao == 1:\n",
        "      velocidade_mru()\n",
        "      break\n",
        "    elif opcao == 2:\n",
        "      velocidade_mruv()\n",
        "      break\n",
        "    else:\n",
        "      print('Tente outra vez.')\n",
        "\n",
        "velocidade_media()"
      ],
      "execution_count": null,
      "outputs": []
    },
    {
      "cell_type": "markdown",
      "metadata": {
        "id": "lXtJNzsK3Kbz"
      },
      "source": [
        "**Questão 03:** Crie uma funcão para calcular o ángulo zenital do sol (da semana passada) tomando como argumento as medidas da altura e o comprimento da sombra."
      ]
    },
    {
      "cell_type": "code",
      "metadata": {
        "id": "d6vo-I3MTYg3",
        "outputId": "e81c7152-4a95-4521-8ea4-44040cbab4a9",
        "colab": {
          "base_uri": "https://localhost:8080/",
          "height": 67
        }
      },
      "source": [
        "import math\n",
        "\n",
        "def angulo_zenital(altura, sombra):\n",
        "  altura = float(input('Qual a altura do edifício?'))\n",
        "  sombra = float(input('Qual o comprimento da sombra desde o objeto?'))\n",
        "  angulo = altura/sombra\n",
        "  print('O ângulo zenital do sol é {:.2f} graus.'.format(math.degrees(angulo)))\n",
        "\n",
        "angulo_zenital(\"altura\", \"sombra\")"
      ],
      "execution_count": null,
      "outputs": [
        {
          "output_type": "stream",
          "text": [
            "Qual a altura do edifício?50\n",
            "Qual o comprimento da sombra desde o objeto?4\n",
            "O ângulo zenital do sol é 716.20 graus.\n"
          ],
          "name": "stdout"
        }
      ]
    },
    {
      "cell_type": "code",
      "metadata": {
        "id": "Wa4RJZAAVUlx"
      },
      "source": [
        ""
      ],
      "execution_count": null,
      "outputs": []
    }
  ]
}