{
  "nbformat": 4,
  "nbformat_minor": 0,
  "metadata": {
    "colab": {
      "name": "Ursula_Goulart_Aula_2_2.ipynb",
      "provenance": [],
      "authorship_tag": "ABX9TyMASaXcToazi/WnNWgHVw1I",
      "include_colab_link": true
    },
    "kernelspec": {
      "name": "python3",
      "display_name": "Python 3"
    }
  },
  "cells": [
    {
      "cell_type": "markdown",
      "metadata": {
        "id": "view-in-github",
        "colab_type": "text"
      },
      "source": [
        "<a href=\"https://colab.research.google.com/github/goulartsursula/python-uerj/blob/master/Exercicios/Ursula_Goulart_Aula_2.ipynb\" target=\"_parent\"><img src=\"https://colab.research.google.com/assets/colab-badge.svg\" alt=\"Open In Colab\"/></a>"
      ]
    },
    {
      "cell_type": "markdown",
      "metadata": {
        "id": "y1awKzL9j_Fj"
      },
      "source": [
        "**Questão 2:** O volume de uma esfera de raio r é $\\frac{4}{3} \\pi r^{3}$\n",
        "\n",
        "Qual é o volume de uma esfera de raio 5?"
      ]
    },
    {
      "cell_type": "code",
      "metadata": {
        "id": "DMOKLiLFuZJ6"
      },
      "source": [
        "import math"
      ],
      "execution_count": null,
      "outputs": []
    },
    {
      "cell_type": "code",
      "metadata": {
        "id": "pb_cWj8Tu4CK"
      },
      "source": [
        "raio = float(input('Qual o valor do raio da esfera, metros?'))\n",
        "volume = (4/3)* (math.pi) * (raio**3)\n",
        "print('O volume da esfera é de {} m³.'.format(round(volume,2)))"
      ],
      "execution_count": null,
      "outputs": []
    },
    {
      "cell_type": "markdown",
      "metadata": {
        "id": "VyWA_wj_kKOp"
      },
      "source": [
        "**Questão 3:** Suponha que o preço de um livro seja 24.95 reais, porém as livrarias têm desconto de 40%. Os custos de envio são de 3.00 reais para o primeiro livro e 0.75 reais para os livros adicionais. Qual é o custo total da compra de 60 livros?\n"
      ]
    },
    {
      "cell_type": "code",
      "metadata": {
        "id": "dqWSYidAkx_c"
      },
      "source": [
        "#Valor dos livros\n",
        "livro_unidade = float(input('Qual o preço do livro?'))\n",
        "unidades = float(input('Quantas unidades?'))\n",
        "livro_desconto = (livro_unidade) - (livro_unidade*0.4)\n",
        "livro_total = unidades*livro_desconto\n",
        "\n",
        "#Custo de envio total\n",
        "envio_total = 3 + (unidades - 1) * 0.75\n",
        "\n",
        "#Custo total\n",
        "total = livro_total + envio_total\n",
        "print('O total a pagar por {} livros é de R${}.'.format(unidades,total))"
      ],
      "execution_count": null,
      "outputs": []
    },
    {
      "cell_type": "markdown",
      "metadata": {
        "id": "tHw9qcihkzcq"
      },
      "source": [
        "**Questão 4:** Um laser vermelho (com comprimento de onda $\\lambda = 632.8$ nm) incide em uma fenda dupla produzindo um padrão de interferência com franjas claras e escuras, em um anteparo situado a uma distância D = 1.98 m da fenda. Calcule a distância $\\Delta y$ entre dois máximos consecutivos de interferência. Considere o espaçamento entre as fendas, $d$, como sendo igual a 0.250 mm. <em>Dica: a distância entre dois máximos de interferência consecutivos pode ser aproximada por $\\Delta y = \\frac{\\lambda D}{d}$."
      ]
    },
    {
      "cell_type": "code",
      "metadata": {
        "id": "HW7yNunclBlO"
      },
      "source": [
        "import math\n",
        "\n",
        "distancia = float(input('Qual a distância entre o anteparo onde se encontra o laser e a fenda?'))\n",
        "distancia_fenda = float(input('Qual a distância entre as fendas?'))\n",
        "comp_onda = 0.0000006328\n",
        "y = (comp_onda * distancia)/distancia_fenda\n",
        "print('A distancia entre dois máximos de interferência consecutivos é aproximadamente {} metros.'.format(y))"
      ],
      "execution_count": null,
      "outputs": []
    }
  ]
}