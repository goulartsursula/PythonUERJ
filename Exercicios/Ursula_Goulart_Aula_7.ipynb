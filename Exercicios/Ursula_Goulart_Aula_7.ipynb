{
  "nbformat": 4,
  "nbformat_minor": 0,
  "metadata": {
    "colab": {
      "name": "Ursula_Goulart_Aula_7.ipynb",
      "provenance": [],
      "authorship_tag": "ABX9TyOPQDDDOjIFnf2oKGIE5d3Q",
      "include_colab_link": true
    },
    "kernelspec": {
      "name": "python3",
      "display_name": "Python 3"
    }
  },
  "cells": [
    {
      "cell_type": "markdown",
      "metadata": {
        "id": "view-in-github",
        "colab_type": "text"
      },
      "source": [
        "<a href=\"https://colab.research.google.com/github/goulartsursula/python-uerj/blob/master/Exercicios/Ursula_Goulart_Aula_7.ipynb\" target=\"_parent\"><img src=\"https://colab.research.google.com/assets/colab-badge.svg\" alt=\"Open In Colab\"/></a>"
      ]
    },
    {
      "cell_type": "markdown",
      "metadata": {
        "id": "dybOWfuuED0v"
      },
      "source": [
        "**Questão 01:** A conjectura de Collatz, diz que \"Todos os inteiros positivos irão eventualmente convergir para 1 usando as regras do Collatz\". Faça um programa que verifique a conjectura de Collatz para alguns valores. As regras de Collatz são: Dado um número n:\n",
        "\n",
        "se n for par, divida-o por 2;\n",
        "Se n for ímpar, atualize-o para 3*n + 1"
      ]
    },
    {
      "cell_type": "code",
      "metadata": {
        "id": "HYBS45OsoUks",
        "outputId": "0c77a373-0fb9-4274-995c-f1ec06a7b09b",
        "colab": {
          "base_uri": "https://localhost:8080/"
        }
      },
      "source": [
        "def collatz(n):\n",
        "  while n != 1:\n",
        "    print(n, end=', ')\n",
        "    if n % 2 == 0:\n",
        "      n = n // 2\n",
        "    else:\n",
        "      n = n * 3 + 1\n",
        "    print(n, end='.\\n')\n",
        "seq3np1(13)"
      ],
      "execution_count": null,
      "outputs": [
        {
          "output_type": "stream",
          "text": [
            "13, 40.\n",
            "40, 20.\n",
            "20, 10.\n",
            "10, 5.\n",
            "5, 16.\n",
            "16, 8.\n",
            "8, 4.\n",
            "4, 2.\n",
            "2, 1.\n"
          ],
          "name": "stdout"
        }
      ]
    },
    {
      "cell_type": "markdown",
      "metadata": {
        "id": "HEMC9dHEqTPy"
      },
      "source": [
        "**Questão 02:** Modifique a função counter para contar o número de vezes que os dígitos 0 e 5 aparecem em um dado número n. Por exemplo, n = 10568, tem 2 dígitos 0 ou 5."
      ]
    },
    {
      "cell_type": "code",
      "metadata": {
        "id": "hG2gALyoo7Wc",
        "outputId": "c541e1c4-ba91-4bf8-8be0-a3593e26cc85",
        "colab": {
          "base_uri": "https://localhost:8080/"
        }
      },
      "source": [
        "def counter(n):\n",
        "  count = 0\n",
        "  while n > 0:\n",
        "    digito = n % 10\n",
        "    if digito == 0 or digito == 5:\n",
        "      count = count + 1\n",
        "    n = n // 10\n",
        "  return count\n",
        "\n",
        "counter(10568)"
      ],
      "execution_count": null,
      "outputs": [
        {
          "output_type": "execute_result",
          "data": {
            "text/plain": [
              "2"
            ]
          },
          "metadata": {
            "tags": []
          },
          "execution_count": 94
        }
      ]
    },
    {
      "cell_type": "markdown",
      "metadata": {
        "id": "WQ93h3ZjsTw8"
      },
      "source": [
        "**Questão 03:** Encapsule e generalize a seguinte declaração:"
      ]
    },
    {
      "cell_type": "code",
      "metadata": {
        "id": "ISs3EXSCsbPY"
      },
      "source": [
        "for i in [12, 16, 17, 24, 29]:\n",
        "    if i % 2 == 1:  # If the number is odd\n",
        "       break        #  ... immediately exit the loop\n",
        "    print(i)\n",
        "print(\"done\")"
      ],
      "execution_count": null,
      "outputs": []
    },
    {
      "cell_type": "code",
      "metadata": {
        "id": "Nmt64uKYxdpL",
        "outputId": "7c90f195-5e07-4832-a60c-a4f379c224a8",
        "colab": {
          "base_uri": "https://localhost:8080/"
        }
      },
      "source": [
        "import numpy as np\n",
        "\n",
        "numbers = np.array([12, 16, 17, 24, 29, 30])\n",
        "def list_of_numbers(numbers):\n",
        "  for i in numbers:\n",
        "    if i % 2 == 1:\n",
        "      break\n",
        "    print(i)\n",
        "list_of_numbers(numbers)\n"
      ],
      "execution_count": null,
      "outputs": [
        {
          "output_type": "stream",
          "text": [
            "12\n",
            "16\n"
          ],
          "name": "stdout"
        }
      ]
    },
    {
      "cell_type": "markdown",
      "metadata": {
        "id": "B83hdsd72oqo"
      },
      "source": [
        "**Questão 04:** O método de Newton para raiz quadrada. Suponha que você queira calcular a raiz quadrada de n. Se você começar com quase qualquer aproximação, poderá calcular uma aproximação melhor (mais próxima da resposta real) com a seguinte fórmula: melhor = (approx + n/approx)/2\n",
        "\n",
        "Usando um loop e repetindo esta fórmula até que a melhor aproximação se aproxime o suficiente da anterior (podemos considerar uma diferença de 0,001), podemos escrever uma função para calcular a raiz quadrada.\n",
        "\n",
        "Esse é um exemplo de repetição indefinida. Com qual tipo de loop você deve escrever o seu programa?"
      ]
    },
    {
      "cell_type": "code",
      "metadata": {
        "id": "Iq6HO-Ce2vi-",
        "outputId": "d54a08d5-1d23-4cfc-bdf0-49b5132802f8",
        "colab": {
          "base_uri": "https://localhost:8080/"
        }
      },
      "source": [
        "def metodo_newton(n):\n",
        "  a = n\n",
        "  while True:\n",
        "    n0 = n\n",
        "    n = 0.5 * (n + a / n)\n",
        "\n",
        "    if n0 - n < 0.001:\n",
        "      break\n",
        "  \n",
        "  return n\n",
        "\n",
        "metodo_newton(34435)\n"
      ],
      "execution_count": 2,
      "outputs": [
        {
          "output_type": "execute_result",
          "data": {
            "text/plain": [
              "185.5666995988235"
            ]
          },
          "metadata": {
            "tags": []
          },
          "execution_count": 2
        }
      ]
    }
  ]
}