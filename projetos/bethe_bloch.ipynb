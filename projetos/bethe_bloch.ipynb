{
  "nbformat": 4,
  "nbformat_minor": 0,
  "metadata": {
    "colab": {
      "name": "bethe_bloch.ipynb",
      "provenance": [],
      "authorship_tag": "ABX9TyMZzFYIDriYaNbTtxklMCWF",
      "include_colab_link": true
    },
    "kernelspec": {
      "name": "python3",
      "display_name": "Python 3"
    }
  },
  "cells": [
    {
      "cell_type": "markdown",
      "metadata": {
        "id": "view-in-github",
        "colab_type": "text"
      },
      "source": [
        "<a href=\"https://colab.research.google.com/github/goulartsursula/python-uerj/blob/master/projetos/bethe_bloch.ipynb\" target=\"_parent\"><img src=\"https://colab.research.google.com/assets/colab-badge.svg\" alt=\"Open In Colab\"/></a>"
      ]
    },
    {
      "cell_type": "markdown",
      "metadata": {
        "id": "NesV7wbsofA3"
      },
      "source": [
        "**Projeto:** Interação da radiação com a matéria através da equação de Bethe-Bloch\n",
        "\n",
        "**Autores:** Gabriela Gonçalves, Úrsula Goulart e Victor Soeiro.\n",
        "\n",
        "**Última atualização:** 17/ 11/ 2020"
      ]
    },
    {
      "cell_type": "code",
      "metadata": {
        "id": "vpODhqMTqT3C"
      },
      "source": [
        "import numpy as np\n",
        "import matplotlib.pyplot as plt"
      ],
      "execution_count": 1,
      "outputs": []
    },
    {
      "cell_type": "code",
      "metadata": {
        "id": "CnIYZvPBoLBJ"
      },
      "source": [
        "c = 3e10  # Velocidade da luz [cm/s]\n",
        "r_e = 2.818e-13  # Raio clássico do elétron [cm]\n",
        "N_A = 6.022e23  # Número de avogadro [mol^-1]\n",
        "p = 8.960  # Densidade do meio [g.cm^-3]\n",
        "A = 63.546  # Massa atômica [g.mol^-1]\n",
        "Z = 29  # Número atômico [adimensional]\n",
        "z = 3.55  # Carga da partícula incidente [adimensional]\n",
        "m_e = 0.5110  # Massa do elétron [MeV]\n",
        "M = 105.7  # Massa da partícula incidente [MeV]  \n",
        "e_I = 322  # Energia média de excitação [MeV]\n",
        "K = 4 * np.pi * N_A * np.power(r_e, 2) * m_e  # [MeV cm^2 mol^-1]"
      ],
      "execution_count": 2,
      "outputs": []
    },
    {
      "cell_type": "markdown",
      "metadata": {
        "id": "JehB1L0LqdJS"
      },
      "source": [
        "Para diminuir a repetição de checagem dos tipos de dados em cada uma das funções criadas para o projeto, foi desenvolvido um decorador no Python com esse intuito. Esse decorador, faz com que a função seja aceita alguns tipos de dados, como listas e arrays do módulo Numpy."
      ]
    },
    {
      "cell_type": "code",
      "metadata": {
        "id": "5ghNZCUyqE3v"
      },
      "source": [
        "def func_argument_decorator(function):\n",
        "    def wrapper(arg):\n",
        "        if isinstance(arg, list):\n",
        "            list_values = []\n",
        "            for value in arg:\n",
        "                list_values.append(function(value))\n",
        "\n",
        "            return list_values\n",
        "\n",
        "        if isinstance(arg, np.ndarray):\n",
        "            for value in arg:\n",
        "                if not isinstance(value, (np.float, np.int)):\n",
        "                    raise ValueError(f\"O tipo do argumento está incorreto: {arg} {type(arg)}\")\n",
        "\n",
        "        if isinstance(arg, (int, float, np.ndarray)):\n",
        "            return function(arg)\n",
        "\n",
        "        raise ValueError(f\"O tipo do argumento está incorreto: {arg} {type(arg)}\")\n",
        "\n",
        "    return wrapper"
      ],
      "execution_count": 3,
      "outputs": []
    },
    {
      "cell_type": "markdown",
      "metadata": {
        "id": "IvOnXQo4rZPp"
      },
      "source": [
        "Para o item (1) e o item (2) é necessário escrever uma função em Python chamada **def gamma(beta):** que tem como argumento $\\beta$ e retorna $\\gamma$, além de nos certificarmos que gamma(beta) pode aceitar um vetor $\\beta$ e retornar um vetor compatível de $\\gamma$."
      ]
    },
    {
      "cell_type": "code",
      "metadata": {
        "id": "fXwruCsvqw7f"
      },
      "source": [
        "@func_argument_decorator\n",
        "def gamma(beta):\n",
        "    \"\"\"\n",
        "    Retorna o fator de Lorentz dado a velocidade relativa de um objeto à velocidade da luz.\n",
        "    :param beta: Velocidade relativa de um objeto à velocidade da luz.\n",
        "    :return: Fator de Lorentz.\n",
        "    \"\"\"\n",
        "    return 1 / np.sqrt(1 - np.power(beta, 2))"
      ],
      "execution_count": 4,
      "outputs": []
    },
    {
      "cell_type": "code",
      "metadata": {
        "id": "I1I6l8vntODI",
        "colab": {
          "base_uri": "https://localhost:8080/"
        },
        "outputId": "92f627cc-8795-4611-bf36-2124a78c2842"
      },
      "source": [
        "gamma(0.6)"
      ],
      "execution_count": 5,
      "outputs": [
        {
          "output_type": "execute_result",
          "data": {
            "text/plain": [
              "1.25"
            ]
          },
          "metadata": {
            "tags": []
          },
          "execution_count": 5
        }
      ]
    },
    {
      "cell_type": "code",
      "metadata": {
        "id": "46SwdS2nxpqJ",
        "colab": {
          "base_uri": "https://localhost:8080/"
        },
        "outputId": "7fed0d70-860b-4188-fc4f-a41b78f06a35"
      },
      "source": [
        "gamma([0.3, 0.5, 0.9])"
      ],
      "execution_count": 6,
      "outputs": [
        {
          "output_type": "execute_result",
          "data": {
            "text/plain": [
              "[1.0482848367219182, 1.1547005383792517, 2.294157338705618]"
            ]
          },
          "metadata": {
            "tags": []
          },
          "execution_count": 6
        }
      ]
    },
    {
      "cell_type": "code",
      "metadata": {
        "colab": {
          "base_uri": "https://localhost:8080/"
        },
        "id": "CdX3jDUXKTZz",
        "outputId": "a7bf12ab-4bb7-4b25-edec-865a1c618ab8"
      },
      "source": [
        "gamma(np.linspace(0.1, 0.995, 50))"
      ],
      "execution_count": 7,
      "outputs": [
        {
          "output_type": "execute_result",
          "data": {
            "text/plain": [
              "array([ 1.00503782,  1.00706757,  1.00945266,  1.01220059,  1.0153201 ,\n",
              "        1.01882125,  1.02271557,  1.0270161 ,  1.03173754,  1.03689644,\n",
              "        1.04251131,  1.04860284,  1.05519418,  1.06231111,  1.06998247,\n",
              "        1.07824043,  1.08712098,  1.09666438,  1.10691581,  1.11792604,\n",
              "        1.12975224,  1.14245904,  1.15611967,  1.17081743,  1.18664746,\n",
              "        1.2037189 ,  1.22215755,  1.2421092 ,  1.2637438 ,  1.28726078,\n",
              "        1.31289582,  1.3409297 ,  1.37169989,  1.40561603,  1.4431809 ,\n",
              "        1.48501938,  1.53191916,  1.5848895 ,  1.64524794,  1.71475273,\n",
              "        1.79581176,  1.89182706,  2.00779224,  2.15139655,  2.33523619,\n",
              "        2.58174025,  2.93589502,  3.50636756,  4.66306449, 10.01252349])"
            ]
          },
          "metadata": {
            "tags": []
          },
          "execution_count": 7
        }
      ]
    },
    {
      "cell_type": "markdown",
      "metadata": {
        "id": "Au5ku-OsueyJ"
      },
      "source": [
        "Para o item (3) foi feito um gráfico *gamma* versus $\\beta$ , ou seja, partindo de um vetor de valores $\\beta$ variando de 0 a 0,995. "
      ]
    },
    {
      "cell_type": "code",
      "metadata": {
        "id": "G9ZFmC-nukv2",
        "colab": {
          "base_uri": "https://localhost:8080/",
          "height": 314
        },
        "outputId": "015cc7f6-8e4c-4a8a-e0ac-17c539ed6d37"
      },
      "source": [
        "b = np.linspace(0, 0.995, 1000)\n",
        "g = gamma(b)\n",
        "\n",
        "plt.plot(b, g)\n",
        "plt.xlabel(r'$\\beta$', fontsize = 20)\n",
        "plt.ylabel(r'$\\gamma$', fontsize = 20)\n",
        "plt.title(r'$\\gamma \\times \\beta$', fontsize = 18)\n",
        "\n",
        "plt.show()"
      ],
      "execution_count": 8,
      "outputs": [
        {
          "output_type": "display_data",
          "data": {
            "image/png": "[encoded data removed]",
            "text/plain": [
              "<Figure size 432x288 with 1 Axes>"
            ]
          },
          "metadata": {
            "tags": [],
            "needs_background": "light"
          }
        }
      ]
    },
    {
      "cell_type": "markdown",
      "metadata": {
        "id": "IuY-Ozrq0Yxj"
      },
      "source": [
        "Para o item (4) é solicitado que seja feito um gráfico $\\gamma \\beta$ *versus* $\\beta$, contudo, para que isso seja possível, é necessário criar a função *get_beta* que retorna $\\beta$, adotando uma relação com $\\beta \\gamma$"
      ]
    },
    {
      "cell_type": "code",
      "metadata": {
        "id": "E9x21cDrq1E_"
      },
      "source": [
        "@func_argument_decorator\n",
        "def get_beta(beta_gamma):\n",
        "    \"\"\"\n",
        "    Usando a propriedade\n",
        "    gamma^2 = (gamma * beta)^2 + 1\n",
        "    retorna o valor de beta dado o seu produto com gamma.\n",
        "    :param beta_gamma: Produto de Gamma e Beta.\n",
        "    :return: Beta.\n",
        "    \"\"\"\n",
        "    return beta_gamma / np.sqrt(np.power(beta_gamma, 2) + 1)"
      ],
      "execution_count": 9,
      "outputs": []
    },
    {
      "cell_type": "code",
      "metadata": {
        "id": "JY2wbVQw2XJG",
        "colab": {
          "base_uri": "https://localhost:8080/"
        },
        "outputId": "36efac78-3a19-4ad2-c278-f73274dfb150"
      },
      "source": [
        "get_beta(10.9)"
      ],
      "execution_count": 10,
      "outputs": [
        {
          "output_type": "execute_result",
          "data": {
            "text/plain": [
              "0.9958179810075175"
            ]
          },
          "metadata": {
            "tags": []
          },
          "execution_count": 10
        }
      ]
    },
    {
      "cell_type": "code",
      "metadata": {
        "id": "_mNlUs531LLl",
        "colab": {
          "base_uri": "https://localhost:8080/",
          "height": 315
        },
        "outputId": "ff1968aa-ffd5-44d0-f5fe-52449c92da47"
      },
      "source": [
        "gb = np.linspace(0, 100, 1000)\n",
        "b = get_beta(gb)\n",
        "\n",
        "plt.plot(b, gb)\n",
        "plt.xlabel(r'$\\gamma \\beta$', fontsize =20)\n",
        "plt.ylabel(r'$\\beta$', fontsize =20)\n",
        "plt.title(r'$\\gamma \\beta \\times \\beta$', fontsize =20)\n",
        "\n",
        "plt.show()"
      ],
      "execution_count": 11,
      "outputs": [
        {
          "output_type": "display_data",
          "data": {
            "image/png": "[encoded data removed]",
            "text/plain": [
              "<Figure size 432x288 with 1 Axes>"
            ]
          },
          "metadata": {
            "tags": [],
            "needs_background": "light"
          }
        }
      ]
    },
    {
      "cell_type": "markdown",
      "metadata": {
        "id": "LNrx2sOdM9ek"
      },
      "source": [
        "Para o item (5) é necessário traçar o argumento do logaritmo natural na equação de Bethe-Block em uma função de $\\gamma \\beta$. Fazer com que o argumento seja uma nova função **ln_argument()**. \n",
        "\n",
        "Ao plotar essa função deve aceitando $\\beta$ ou $\\gamma$ ou seu produto ($\\beta \\gamma$) como um argumento. Foi possível observar que pode ser muito difícil obter $\\beta$ com uma boa precisão a partir $\\gamma$ em baixas velocidades; o oposto é difícil em velocidades muito altas. Faça o gráfico para um intervalo de 0,1 a 100."
      ]
    },
    {
      "cell_type": "code",
      "metadata": {
        "id": "IXCKuII1q3LQ"
      },
      "source": [
        "@func_argument_decorator\n",
        "def ln_argument(beta_gamma):\n",
        "    \"\"\"\n",
        "     Calcula o argumento do logaritmo natural da função de Bethe-Bloch.\n",
        "     :param beta_gamma: O produto de beta e gamma.\n",
        "     :return: O argumento do logaritmo natural da função de Bethe-Bloch\n",
        "     \"\"\"\n",
        "    return 2 * m_e * np.power(beta_gamma, 2) / e_I"
      ],
      "execution_count": 12,
      "outputs": []
    },
    {
      "cell_type": "code",
      "metadata": {
        "id": "nXo6tRFjPJOO",
        "colab": {
          "base_uri": "https://localhost:8080/",
          "height": 327
        },
        "outputId": "4c9fcfc5-8569-4466-ae9b-092bcc544e2c"
      },
      "source": [
        "gb = np.linspace(0, 100, 1000)\n",
        "arg = ln_argument(gb)\n",
        "\n",
        "plt.plot(gb, arg)\n",
        "plt.xlabel(r'$\\beta\\gamma$', fontsize = 20)\n",
        "plt.ylabel(r'$\\frac{2m_e(\\beta \\gamma)²}{I}$', fontsize = 20)\n",
        "plt.title(r'$\\beta\\gamma \\times \\frac{2m_e(\\beta \\gamma)²}{I}$', fontsize = 20)\n",
        "\n",
        "plt.show()"
      ],
      "execution_count": 13,
      "outputs": [
        {
          "output_type": "display_data",
          "data": {
            "image/png": "[encoded data removed]",
            "text/plain": [
              "<Figure size 432x288 with 1 Axes>"
            ]
          },
          "metadata": {
            "tags": [],
            "needs_background": "light"
          }
        }
      ]
    },
    {
      "cell_type": "markdown",
      "metadata": {
        "id": "BgGL2xHNJMs9"
      },
      "source": [
        "Pela equação do fator de Lorentz nota-se que se o valor de $\\beta$ for um valor muito pequeno ficará muito dificil determinar um valor para $\\gamma$. Então torna-se interessante utilizar o argumento da função como o produto $\\gamma \\beta$, afinal podemos variá-lo sem nos preocuparmos com essa precisão."
      ]
    },
    {
      "cell_type": "markdown",
      "metadata": {
        "id": "ViCXIC6tiHSn"
      },
      "source": [
        "Esse gráfico não mostra a região interessante para valores baixos de $\\beta$. É necessário fazer o *plot* com uma escala logarítmica."
      ]
    },
    {
      "cell_type": "code",
      "metadata": {
        "id": "u1LDU9D_ilIu",
        "colab": {
          "base_uri": "https://localhost:8080/",
          "height": 330
        },
        "outputId": "dc7df165-68d2-4395-a04b-d3a5c77c2846"
      },
      "source": [
        "gb = np.linspace(0, 100, 1000)\n",
        "arg = ln_argument(gb)\n",
        "\n",
        "plt.loglog(gb, arg)\n",
        "plt.xlabel(r'$\\gamma \\beta$', fontsize = 20)\n",
        "plt.ylabel(r'$\\frac{2m_e(\\beta \\gamma)²}{I}$', fontsize = 20)\n",
        "plt.title(r'$\\gamma \\beta \\times \\frac{2m_e(\\beta \\gamma)²}{I}$', fontsize = 20)\n",
        "\n",
        "plt.show()"
      ],
      "execution_count": 14,
      "outputs": [
        {
          "output_type": "display_data",
          "data": {
            "image/png": "[encoded data removed]",
            "text/plain": [
              "<Figure size 432x288 with 1 Axes>"
            ]
          },
          "metadata": {
            "tags": [],
            "needs_background": "light"
          }
        }
      ]
    },
    {
      "cell_type": "markdown",
      "metadata": {
        "id": "hDZGuJL2AH_b"
      },
      "source": [
        "Para o item 8 é necessário plotar o conteúdo dos colchetes versus $\\gamma \\beta$ usando o mesmo espaçamento do vetor de log para o argumento x. Para termos números reais de $e_I$, escolher múons que penetram em um absorvedor de cobre. Esse é um número adimensional que pode variar de 3,55 a mais\n",
        "de 16."
      ]
    },
    {
      "cell_type": "code",
      "metadata": {
        "id": "BlGANHp68XGk"
      },
      "source": [
        "@func_argument_decorator\n",
        "def brackets_argument(beta_gamma):\n",
        "    return np.log(ln_argument(beta_gamma)) - np.power(get_beta(beta_gamma), 2)"
      ],
      "execution_count": 15,
      "outputs": []
    },
    {
      "cell_type": "code",
      "metadata": {
        "id": "CX_C7Em5AjdB",
        "colab": {
          "base_uri": "https://localhost:8080/",
          "height": 342
        },
        "outputId": "6a36f07f-0204-4408-ba68-402dff4c8a58"
      },
      "source": [
        "gb = np.linspace(0.1, 100, 1000)\n",
        "brackets = brackets_argument(gb)\n",
        "\n",
        "plt.loglog(brackets, gb)\n",
        "plt.xlabel(r'$ln(\\frac{2m_ec²\\beta²\\gamma²}{I})$', fontsize = 20)\n",
        "plt.ylabel(r'$\\gamma \\beta$', fontsize = 20)\n",
        "plt.title(r'$ln(\\frac{2m_ec²\\beta²\\gamma²}{I}) \\times \\gamma\\beta$', fontsize = 20)\n",
        "\n",
        "plt.show()"
      ],
      "execution_count": 16,
      "outputs": [
        {
          "output_type": "display_data",
          "data": {
            "image/png": "[encoded data removed]",
            "text/plain": [
              "<Figure size 432x288 with 1 Axes>"
            ]
          },
          "metadata": {
            "tags": [],
            "needs_background": "light"
          }
        }
      ]
    },
    {
      "cell_type": "code",
      "metadata": {
        "id": "eY22zf8cq-Q9"
      },
      "source": [
        "@func_argument_decorator\n",
        "def bethe_bloch(beta_gamma):\n",
        "    return K * p * np.power(z, 2) * (Z/A) * (1/np.power(get_beta(beta_gamma), 2)) * brackets_argument(beta_gamma)"
      ],
      "execution_count": 17,
      "outputs": []
    },
    {
      "cell_type": "code",
      "metadata": {
        "id": "tkB8LPwb_5oa",
        "colab": {
          "base_uri": "https://localhost:8080/"
        },
        "outputId": "37f3c36f-a09b-452d-cc2e-a5b0d4e3f251"
      },
      "source": [
        "bethe_bloch(100)"
      ],
      "execution_count": 18,
      "outputs": [
        {
          "output_type": "execute_result",
          "data": {
            "text/plain": [
              "38.89479652708482"
            ]
          },
          "metadata": {
            "tags": []
          },
          "execution_count": 18
        }
      ]
    },
    {
      "cell_type": "code",
      "metadata": {
        "id": "YD4TWGHRrEcf",
        "colab": {
          "base_uri": "https://localhost:8080/",
          "height": 307
        },
        "outputId": "0e1dceef-71e7-4dc8-ead6-d909d9e13009"
      },
      "source": [
        "x = np.linspace(0.1, 100, 1000)\n",
        "y = -bethe_bloch(x)\n",
        "\n",
        "plt.loglog(x, y)\n",
        "plt.xlabel(r'Múon momentum [GeV]', fontsize = 14)\n",
        "plt.ylabel(r'Stopping power $ [MeV/cm]$', fontsize = 14)\n",
        "plt.title(r'Stopping power $\\times$ Múon momentum', fontsize = 14)\n",
        "\n",
        "plt.show()"
      ],
      "execution_count": 23,
      "outputs": [
        {
          "output_type": "display_data",
          "data": {
            "image/png": "[encoded data removed]",
            "text/plain": [
              "<Figure size 432x288 with 1 Axes>"
            ]
          },
          "metadata": {
            "tags": [],
            "needs_background": "light"
          }
        }
      ]
    },
    {
      "cell_type": "code",
      "metadata": {
        "id": "Ol723IKOvVwL"
      },
      "source": [
        ""
      ],
      "execution_count": null,
      "outputs": []
    }
  ]
}