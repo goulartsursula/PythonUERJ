{
  "nbformat": 4,
  "nbformat_minor": 0,
  "metadata": {
    "colab": {
      "name": "Fractais_de_Koch",
      "provenance": [],
      "authorship_tag": "ABX9TyNrRyDI9PViMOmjBj0GYeqi",
      "include_colab_link": true
    },
    "kernelspec": {
      "name": "python3",
      "display_name": "Python 3"
    }
  },
  "cells": [
    {
      "cell_type": "markdown",
      "metadata": {
        "id": "view-in-github",
        "colab_type": "text"
      },
      "source": [
        "<a href=\"https://colab.research.google.com/github/goulartsursula/python-uerj/blob/master/Fractais_de_Koch.ipynb\" target=\"_parent\"><img src=\"https://colab.research.google.com/assets/colab-badge.svg\" alt=\"Open In Colab\"/></a>"
      ]
    },
    {
      "cell_type": "code",
      "metadata": {
        "id": "DYnG24xoVqnN",
        "outputId": "fea081c1-e4b1-4a25-a46c-826bffa39c1e",
        "colab": {
          "base_uri": "https://localhost:8080/",
          "height": 170
        }
      },
      "source": [
        "!pip3 install ColabTurtle"
      ],
      "execution_count": 1,
      "outputs": [
        {
          "output_type": "stream",
          "text": [
            "Collecting ColabTurtle\n",
            "  Downloading https://files.pythonhosted.org/packages/49/01/6da7091c2c6c917cce99c000b89acb6aa27b66ef6eafc0c0ccf59b98694f/ColabTurtle-2.0.0.tar.gz\n",
            "Building wheels for collected packages: ColabTurtle\n",
            "  Building wheel for ColabTurtle (setup.py) ... \u001b[?25l\u001b[?25hdone\n",
            "  Created wheel for ColabTurtle: filename=ColabTurtle-2.0.0-cp36-none-any.whl size=4032 sha256=2dd747ef2926768881d962fbfadd1ccf4b0edb7f2460afad33fac1bd4b09aebc\n",
            "  Stored in directory: /root/.cache/pip/wheels/a8/29/ec/ad346f0042ae467cc74f4378916348faf975b07890651dcae7\n",
            "Successfully built ColabTurtle\n",
            "Installing collected packages: ColabTurtle\n",
            "Successfully installed ColabTurtle-2.0.0\n"
          ],
          "name": "stdout"
        }
      ]
    },
    {
      "cell_type": "code",
      "metadata": {
        "id": "dvF76cyzYk7W"
      },
      "source": [
        "import ColabTurtle.Turtle\n",
        "\n",
        "def koch(t, length=3, i=5):\n",
        "  \"\"\"\n",
        "\n",
        "  :param t:\n",
        "  :param length:\n",
        "  :returns: None\n",
        "  \"\"\"\n",
        "  if i <= 0:\n",
        "      t.forward(int(length))\n",
        "      return\n",
        "    \n",
        "  length = length / 3\n",
        "\n",
        "  koch(t, length, i - 1)\n",
        "\n",
        "  t.left(60)\n",
        "  koch(t, length, i - 1)\n",
        "\n",
        "  t.right(120)\n",
        "  koch(t, length, i - 1)\n",
        "\n",
        "  t.left(60)\n",
        "  koch(t, length, i - 1)\n",
        "\n",
        "t = ColabTurtle.Turtle\n",
        "t.initializeTurtle()\n",
        "t.speed(10)\n",
        "t.width(1)\n",
        "\n",
        "t.penup()\n",
        "t.goto(int(t.window_size[0]/2), int(t.window_size[1]/2))\n",
        "t.pendown()\n",
        "\n",
        "t.right(90)\n",
        "\n",
        "for i in range(3):\n",
        "    koch(t, 250, 4)\n",
        "    t.right(120)"
      ],
      "execution_count": null,
      "outputs": []
    }
  ]
}