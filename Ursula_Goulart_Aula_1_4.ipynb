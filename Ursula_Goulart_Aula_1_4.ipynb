{
  "nbformat": 4,
  "nbformat_minor": 0,
  "metadata": {
    "colab": {
      "name": "Ursula_Goulart_Aula_1_4.ipynb",
      "provenance": [],
      "authorship_tag": "ABX9TyOldzvI49d88NTTIai5YcHk",
      "include_colab_link": true
    },
    "kernelspec": {
      "name": "python3",
      "display_name": "Python 3"
    }
  },
  "cells": [
    {
      "cell_type": "markdown",
      "metadata": {
        "id": "view-in-github",
        "colab_type": "text"
      },
      "source": [
        "<a href=\"https://colab.research.google.com/github/goulartsursula/python-uerj/blob/master/Ursula_Goulart_Aula_1_4.ipynb\" target=\"_parent\"><img src=\"https://colab.research.google.com/assets/colab-badge.svg\" alt=\"Open In Colab\"/></a>"
      ]
    },
    {
      "cell_type": "code",
      "metadata": {
        "id": "a75Xjch9LyFJ",
        "colab_type": "code",
        "colab": {}
      },
      "source": [
        "import math"
      ],
      "execution_count": 3,
      "outputs": []
    },
    {
      "cell_type": "code",
      "metadata": {
        "id": "_wrWhjXBH6Df",
        "colab_type": "code",
        "colab": {
          "base_uri": "https://localhost:8080/",
          "height": 85
        },
        "outputId": "4392ec22-2141-48d5-c0ac-e79c750c94e9"
      },
      "source": [
        "print('O objetivo é calcular o ângulo zenital do sol, para isso é necessário utilizar algo como referência.')\n",
        "altura = float(input('Qual a altura desse objeto?'))\n",
        "comp_sombra = float(input('Qual o comprimento da sombra desde objeto?'))\n",
        "angulo = altura / comp_sombra\n",
        "print('O ângulo zenital do sol é de {:.2f} radianos'.format(math.atan(angulo)))"
      ],
      "execution_count": 13,
      "outputs": [
        {
          "output_type": "stream",
          "text": [
            "O objetivo é calcular o ângulo zenital do sol, para isso é necessário utilizar algo como referência.\n",
            "Qual a altura desse objeto?5\n",
            "Qual o comprimento da sombra desde objeto?0.5\n",
            "O ângulo zenital do sol é de 1.47 radianos\n"
          ],
          "name": "stdout"
        }
      ]
    },
    {
      "cell_type": "code",
      "metadata": {
        "id": "UQnmm_XbL1oW",
        "colab_type": "code",
        "colab": {}
      },
      "source": [
        ""
      ],
      "execution_count": null,
      "outputs": []
    }
  ]
}