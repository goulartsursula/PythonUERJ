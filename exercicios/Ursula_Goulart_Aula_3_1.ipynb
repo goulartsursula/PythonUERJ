{
  "nbformat": 4,
  "nbformat_minor": 0,
  "metadata": {
    "colab": {
      "name": "Ursula_Goulart_Aula_3_1.ipynb",
      "provenance": [],
      "authorship_tag": "ABX9TyN44iixPbFjnR4BYFPcEAQq",
      "include_colab_link": true
    },
    "kernelspec": {
      "name": "python3",
      "display_name": "Python 3"
    }
  },
  "cells": [
    {
      "cell_type": "markdown",
      "metadata": {
        "id": "view-in-github",
        "colab_type": "text"
      },
      "source": [
        "<a href=\"https://colab.research.google.com/github/goulartsursula/python-uerj/blob/master/exercicios/Ursula_Goulart_Aula_3_1.ipynb\" target=\"_parent\"><img src=\"https://colab.research.google.com/assets/colab-badge.svg\" alt=\"Open In Colab\"/></a>"
      ]
    },
    {
      "cell_type": "code",
      "metadata": {
        "id": "6NfxXNHWfSuZ"
      },
      "source": [
        "def argumento_da_função():\n",
        "  argumento = (input('Insira algo: ')\n",
        "  print (argumento)\n",
        "  print (type (argumento))\n",
        "\n",
        "argumento_da_função()"
      ],
      "execution_count": null,
      "outputs": []
    },
    {
      "cell_type": "markdown",
      "metadata": {
        "id": "tXQ3pYArTak0"
      },
      "source": [
        "Problema com o *type*."
      ]
    }
  ]
}