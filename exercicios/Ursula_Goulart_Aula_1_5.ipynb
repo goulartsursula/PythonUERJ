{
  "nbformat": 4,
  "nbformat_minor": 0,
  "metadata": {
    "colab": {
      "name": "Ursula_Goulart_Aula_1_5.ipynb",
      "provenance": [],
      "authorship_tag": "ABX9TyOq7aNZcKpsl6Nw9R8e758F",
      "include_colab_link": true
    },
    "kernelspec": {
      "name": "python3",
      "display_name": "Python 3"
    }
  },
  "cells": [
    {
      "cell_type": "markdown",
      "metadata": {
        "id": "view-in-github",
        "colab_type": "text"
      },
      "source": [
        "<a href=\"https://colab.research.google.com/github/goulartsursula/python-uerj/blob/master/exercicios/Ursula_Goulart_Aula_1_5.ipynb\" target=\"_parent\"><img src=\"https://colab.research.google.com/assets/colab-badge.svg\" alt=\"Open In Colab\"/></a>"
      ]
    },
    {
      "cell_type": "markdown",
      "metadata": {
        "id": "XhyVZcJlWgTM",
        "colab_type": "text"
      },
      "source": [
        "Informações retiradas do endereço eletrônico da Sociedade Brasileira de Endocrinologia e Metabologia."
      ]
    },
    {
      "cell_type": "code",
      "metadata": {
        "id": "Ac88LGgdPzXr",
        "colab_type": "code",
        "colab": {}
      },
      "source": [
        "print('Cálculo do índice de massa corporal.')\n",
        "altura = float(input('Qual a sua altura? Dê a sua altura em metros.'))\n",
        "peso = float(input('Quanto você pesa? Dê o seu peso em quilogramas.'))\n",
        "imc = peso/(altura**2)\n",
        "if imc<=18.5:\n",
        "  print('Seu IMC é de {:.0f}. Baixo peso. Grau de obesidade 0'.format(imc))\n",
        "elif imc>18.5 and imc<=24.9:\n",
        "  print('Seu IMC é de {:.0f}. Peso normal. Grau de obesidade 0.'.format(imc))\n",
        "elif imc>=25 and imc<=29.9:\n",
        "  print('Seu IMC é de {:.0f}. Sobrepeso. Grau de obesidade I.'.format(imc))\n",
        "elif imc>=30 and imc <=39.9:\n",
        "  print('Seu IMC é de {:.0f}. Obesidade. Grau de obesidade II.'.format(imc))\n",
        "elif imc>40:\n",
        "  print('Seu IMC é de {:.0f}. Obesidade grave. Grau de obesidade III.'.format(imc))"
      ],
      "execution_count": null,
      "outputs": []
    },
    {
      "cell_type": "code",
      "metadata": {
        "id": "LDZGZzBFQ-53",
        "colab_type": "code",
        "colab": {}
      },
      "source": [
        ""
      ],
      "execution_count": null,
      "outputs": []
    }
  ]
}