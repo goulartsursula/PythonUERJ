{
  "nbformat": 4,
  "nbformat_minor": 0,
  "metadata": {
    "colab": {
      "name": "Ursula_Goulart_Aula_2_3.ipynb",
      "provenance": [],
      "authorship_tag": "ABX9TyNp+tbUMeiYS2HBOL/JaFRa",
      "include_colab_link": true
    },
    "kernelspec": {
      "name": "python3",
      "display_name": "Python 3"
    }
  },
  "cells": [
    {
      "cell_type": "markdown",
      "metadata": {
        "id": "view-in-github",
        "colab_type": "text"
      },
      "source": [
        "<a href=\"https://colab.research.google.com/github/goulartsursula/python-uerj/blob/master/exercicios/Ursula_Goulart_Aula_2_3.ipynb\" target=\"_parent\"><img src=\"https://colab.research.google.com/assets/colab-badge.svg\" alt=\"Open In Colab\"/></a>"
      ]
    },
    {
      "cell_type": "code",
      "metadata": {
        "id": "j5a9OXPqxjaN",
        "colab_type": "code",
        "colab": {}
      },
      "source": [
        "#Valor dos livros\n",
        "livro_unidade = float(input('Qual o preço do livro?'))\n",
        "unidades = float(input('Quantas unidades?'))\n",
        "livro_desconto = (livro_unidade) - (livro_unidade*0.4)\n",
        "livro_total = unidades*livro_desconto\n",
        "\n",
        "#Custo de envio total\n",
        "envio_total = 3 + (unidades - 1) * 0.75\n",
        "\n",
        "#Custo total\n",
        "total = livro_total + envio_total\n",
        "print('O total a pagar por {} livros é de R${}.'.format(unidades,total))"
      ],
      "execution_count": null,
      "outputs": []
    }
  ]
}