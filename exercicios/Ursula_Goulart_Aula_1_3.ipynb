{
  "nbformat": 4,
  "nbformat_minor": 0,
  "metadata": {
    "colab": {
      "name": "Ursula_Goulart_Aula_1_3.ipynb",
      "provenance": [],
      "authorship_tag": "ABX9TyNv2YLwcEP9RZfiC/1wcjlt",
      "include_colab_link": true
    },
    "kernelspec": {
      "name": "python3",
      "display_name": "Python 3"
    }
  },
  "cells": [
    {
      "cell_type": "markdown",
      "metadata": {
        "id": "view-in-github",
        "colab_type": "text"
      },
      "source": [
        "<a href=\"https://colab.research.google.com/github/goulartsursula/python-uerj/blob/master/Ursula_Goulart_Aula_1_3.ipynb\" target=\"_parent\"><img src=\"https://colab.research.google.com/assets/colab-badge.svg\" alt=\"Open In Colab\"/></a>"
      ]
    },
    {
      "cell_type": "code",
      "metadata": {
        "id": "tpC-_k9FkjbZ",
        "colab_type": "code",
        "colab": {}
      },
      "source": [
        "import math"
      ],
      "execution_count": 1,
      "outputs": []
    },
    {
      "cell_type": "code",
      "metadata": {
        "id": "-Tnzv0_1YLaD",
        "colab_type": "code",
        "colab": {
          "base_uri": "https://localhost:8080/",
          "height": 119
        },
        "outputId": "8428ded3-07e5-4b7d-cbc0-cffda018c011"
      },
      "source": [
        "print('Uma função do segunda grau tem a forma y = ax²+ bx +c, sendo c diferente de zero')\n",
        "a = int(input('Insira o valor de a = '))\n",
        "b = int(input('Insira o valor de b = '))\n",
        "c = int(input('Insira o valor de c = '))\n",
        "print('A função é: y = {}x² + {}x + {}'.format(a, b, c))\n",
        "delta = b**2 - 4*a*c\n",
        "raiz = math.sqrt(delta)\n",
        "y1 = ((-1)*b)/(2*a) - ((raiz)/(2*a))\n",
        "y2 = ((-1)*b)/(2*a) + ((raiz)/(2*a))\n",
        "print ('A raízes são {:.2f} e {:.2f}'.format(y1, y2))\n"
      ],
      "execution_count": 9,
      "outputs": [
        {
          "output_type": "stream",
          "text": [
            "Uma função do segunda grau tem a forma y = ax²+ bx +c, sendo c diferente de zero\n",
            "Insira o valor de a = 3\n",
            "Insira o valor de b = -4\n",
            "Insira o valor de c = -10\n",
            "A função é: y = 3x² + -4x + -10\n",
            "A raízes são -1.28 e 2.61\n"
          ],
          "name": "stdout"
        }
      ]
    },
    {
      "cell_type": "code",
      "metadata": {
        "id": "ps2hjK3Qgny3",
        "colab_type": "code",
        "colab": {}
      },
      "source": [
        ""
      ],
      "execution_count": null,
      "outputs": []
    }
  ]
}
