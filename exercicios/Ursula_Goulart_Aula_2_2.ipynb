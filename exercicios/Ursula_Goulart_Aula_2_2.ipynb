{
  "nbformat": 4,
  "nbformat_minor": 0,
  "metadata": {
    "colab": {
      "name": "Ursula_Goulart_Aula_2_2.ipynb",
      "provenance": [],
      "authorship_tag": "ABX9TyNN3NAAQ9m59DCDhN0N0oRq",
      "include_colab_link": true
    },
    "kernelspec": {
      "name": "python3",
      "display_name": "Python 3"
    }
  },
  "cells": [
    {
      "cell_type": "markdown",
      "metadata": {
        "id": "view-in-github",
        "colab_type": "text"
      },
      "source": [
        "<a href=\"https://colab.research.google.com/github/goulartsursula/python-uerj/blob/master/exercicios/Ursula_Goulart_Aula_2_2.ipynb\" target=\"_parent\"><img src=\"https://colab.research.google.com/assets/colab-badge.svg\" alt=\"Open In Colab\"/></a>"
      ]
    },
    {
      "cell_type": "code",
      "metadata": {
        "id": "DMOKLiLFuZJ6",
        "colab_type": "code",
        "colab": {}
      },
      "source": [
        "import math"
      ],
      "execution_count": 1,
      "outputs": []
    },
    {
      "cell_type": "code",
      "metadata": {
        "id": "pb_cWj8Tu4CK",
        "colab_type": "code",
        "colab": {}
      },
      "source": [
        "raio = float(input('Qual o valor do raio da esfera, metros?'))\n",
        "volume = (4/3)* (math.pi) * (raio**3)\n",
        "print('O volume da esfera é de {} m³.'.format(round(volume,2)))"
      ],
      "execution_count": null,
      "outputs": []
    }
  ]
}