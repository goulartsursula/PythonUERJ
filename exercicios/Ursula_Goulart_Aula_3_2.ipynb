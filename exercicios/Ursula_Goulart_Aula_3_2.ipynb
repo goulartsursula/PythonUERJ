{
  "nbformat": 4,
  "nbformat_minor": 0,
  "metadata": {
    "colab": {
      "name": "Ursula_Goulart_Aula_3_2.ipynb",
      "provenance": [],
      "authorship_tag": "ABX9TyNsnCdjmpFNhnNEkhQqCWWR",
      "include_colab_link": true
    },
    "kernelspec": {
      "name": "python3",
      "display_name": "Python 3"
    }
  },
  "cells": [
    {
      "cell_type": "markdown",
      "metadata": {
        "id": "view-in-github",
        "colab_type": "text"
      },
      "source": [
        "<a href=\"https://colab.research.google.com/github/goulartsursula/python-uerj/blob/master/exercicios/Ursula_Goulart_Aula_3_2.ipynb\" target=\"_parent\"><img src=\"https://colab.research.google.com/assets/colab-badge.svg\" alt=\"Open In Colab\"/></a>"
      ]
    },
    {
      "cell_type": "code",
      "metadata": {
        "id": "FxzdT7w9TxnU"
      },
      "source": [
        "def velocidade_mru():\n",
        "  x0 = float(input('Qual a posição inicial do objeto, em metros?'))\n",
        "  xf = float(input('Qual a posição final do objeto, em metros?'))\n",
        "  t = float(input('O deslocamento durou quanto tempo, em segundos?'))\n",
        "  vm = (xf-x0)/t \n",
        "  print('A velocidade média é de {:.2f} m/s'.format(vm))\n",
        "\n",
        "def velocidade_mruv():\n",
        "  a = 9.787899\n",
        "  t1 = float(input('Quanto tempo até atingir o chão?'))\n",
        "  v = a*t1\n",
        "  print('A velocidade média é de {:.2f} m/s'.format(v))\n",
        "\n",
        "def velocidade_media():\n",
        "  print('''O que você quer calcular? \n",
        "  [1] Velocidade média em MRU\n",
        "  [2] Velocidade média em MRUV''')\n",
        "  opcao = int(input('Sua opção é?'))\n",
        "  if opcao == 1:\n",
        "    velocidade_mru()\n",
        "  elif opcao == 2:\n",
        "    velocidade_mruv()\n",
        "\n",
        "velocidade_media()"
      ],
      "execution_count": null,
      "outputs": []
    },
    {
      "cell_type": "code",
      "metadata": {
        "id": "c43LVdcwg6gS"
      },
      "source": [
        ""
      ],
      "execution_count": null,
      "outputs": []
    }
  ]
}