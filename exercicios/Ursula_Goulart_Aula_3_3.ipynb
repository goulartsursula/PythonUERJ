{
  "nbformat": 4,
  "nbformat_minor": 0,
  "metadata": {
    "colab": {
      "name": "Ursula_Goulart_Aula_3_3.ipynb",
      "provenance": [],
      "authorship_tag": "ABX9TyMTazDBNKkgfhVFghaUoOyg",
      "include_colab_link": true
    },
    "kernelspec": {
      "name": "python3",
      "display_name": "Python 3"
    }
  },
  "cells": [
    {
      "cell_type": "markdown",
      "metadata": {
        "id": "view-in-github",
        "colab_type": "text"
      },
      "source": [
        "<a href=\"https://colab.research.google.com/github/goulartsursula/python-uerj/blob/master/exercicios/Ursula_Goulart_Aula_3_3.ipynb\" target=\"_parent\"><img src=\"https://colab.research.google.com/assets/colab-badge.svg\" alt=\"Open In Colab\"/></a>"
      ]
    },
    {
      "cell_type": "code",
      "metadata": {
        "id": "d6vo-I3MTYg3",
        "outputId": "e81c7152-4a95-4521-8ea4-44040cbab4a9",
        "colab": {
          "base_uri": "https://localhost:8080/",
          "height": 67
        }
      },
      "source": [
        "import math\n",
        "\n",
        "def angulo_zenital(altura, sombra):\n",
        "  altura = float(input('Qual a altura do edifício?'))\n",
        "  sombra = float(input('Qual o comprimento da sombra desde o objeto?'))\n",
        "  angulo = altura/sombra\n",
        "  print('O ângulo zenital do sol é {:.2f} graus.'.format(math.degrees(angulo)))\n",
        "\n",
        "angulo_zenital(\"altura\", \"sombra\")"
      ],
      "execution_count": 12,
      "outputs": [
        {
          "output_type": "stream",
          "text": [
            "Qual a altura do edifício?50\n",
            "Qual o comprimento da sombra desde o objeto?4\n",
            "O ângulo zenital do sol é 716.20 graus.\n"
          ],
          "name": "stdout"
        }
      ]
    },
    {
      "cell_type": "code",
      "metadata": {
        "id": "Wa4RJZAAVUlx"
      },
      "source": [
        ""
      ],
      "execution_count": null,
      "outputs": []
    }
  ]
}