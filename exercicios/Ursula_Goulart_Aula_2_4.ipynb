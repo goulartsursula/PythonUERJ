{
  "nbformat": 4,
  "nbformat_minor": 0,
  "metadata": {
    "colab": {
      "name": "Ursula_Goulart_Aula_2_4.ipynb",
      "provenance": [],
      "authorship_tag": "ABX9TyNuhl/dK8hwfUnTXvjKOc6W",
      "include_colab_link": true
    },
    "kernelspec": {
      "name": "python3",
      "display_name": "Python 3"
    }
  },
  "cells": [
    {
      "cell_type": "markdown",
      "metadata": {
        "id": "view-in-github",
        "colab_type": "text"
      },
      "source": [
        "<a href=\"https://colab.research.google.com/github/goulartsursula/python-uerj/blob/master/exercicios/Ursula_Goulart_Aula_2_4.ipynb\" target=\"_parent\"><img src=\"https://colab.research.google.com/assets/colab-badge.svg\" alt=\"Open In Colab\"/></a>"
      ]
    },
    {
      "cell_type": "code",
      "metadata": {
        "id": "UplyME_h8HF2",
        "colab_type": "code",
        "colab": {}
      },
      "source": [
        "import math\n",
        "\n",
        "distancia = float(input('Qual a distância entre o anteparo onde se encontra o laser e a fenda?'))\n",
        "distancia_fenda = float(input('Qual a distância entre as fendas?'))\n",
        "comp_onda = 0.0000006328\n",
        "y = (comp_onda * distancia)/distancia_fenda\n",
        "print('A distancia entre dois máximos de interferência consecutivos é aproximadamente {} metros.'.format(y))"
      ],
      "execution_count": null,
      "outputs": []
    }
  ]
}