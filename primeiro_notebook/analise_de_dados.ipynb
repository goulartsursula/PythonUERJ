{
  "nbformat": 4,
  "nbformat_minor": 0,
  "metadata": {
    "colab": {
      "name": "analise_de_dados",
      "provenance": [],
      "authorship_tag": "ABX9TyOszSuE0RiXc2+Fe4i1Ik5i",
      "include_colab_link": true
    },
    "kernelspec": {
      "name": "python3",
      "display_name": "Python 3"
    }
  },
  "cells": [
    {
      "cell_type": "markdown",
      "metadata": {
        "id": "view-in-github",
        "colab_type": "text"
      },
      "source": [
        "<a href=\"https://colab.research.google.com/github/goulartsursula/python-uerj/blob/master/primeiro_notebook/analise_de_dados.ipynb\" target=\"_parent\"><img src=\"https://colab.research.google.com/assets/colab-badge.svg\" alt=\"Open In Colab\"/></a>"
      ]
    },
    {
      "cell_type": "code",
      "metadata": {
        "id": "gOhxXSP0C4cf"
      },
      "source": [
        "import pandas as pd       #leitura de dados\n",
        "import numpy as np        #cálculo numérico\n",
        "import matplotlib.pyplot as plt       #plotar dados\n",
        "import random as rand       #funções para gerar dados aleatórios\n",
        "from scipy import stats     #analise estatística\n",
        "from scipy.stats import norm        #distribuição normal\n",
        "import matplotlib.mlab as mlab      #diagramas mais complicados"
      ],
      "execution_count": 5,
      "outputs": []
    },
    {
      "cell_type": "code",
      "metadata": {
        "id": "YHBWf2U7IVqb"
      },
      "source": [
        "doublemu = pd.read_csv('http://opendata.cern.ch/record/545/files/Dimuon_DoubleMu.csv')\n",
        "sunDat = pd.read_table('http://sidc.oma.be/silso/INFO/sndhemcsv.php', sep = ';', encoding = \"ISO-8859-1\", header = None, names = ['Year', 'Month', 'Day', 'Fraction', '$P_{tot}$', '$P_{nrth}$', '$P_{sth}$', '$\\sigma_{tot}$', '$\\sigma_{nrth}$','$\\sigma_{sth}$', '$N_{tot}$', '$_{nrth}$', '$N_{sth}$', 'Prov'])\n",
        "#doublemu.head()"
      ],
      "execution_count": 6,
      "outputs": []
    },
    {
      "cell_type": "code",
      "metadata": {
        "id": "yNkU0UxE3npn",
        "outputId": "1fd5066c-395f-400e-8641-c448b09f0769",
        "colab": {
          "base_uri": "https://localhost:8080/",
          "height": 153
        }
      },
      "source": [
        "print(len(sunDat))\n",
        "print(sunDat.shape)\n",
        "invMass = doublemu.M\n",
        "invMass.head()"
      ],
      "execution_count": 7,
      "outputs": [
        {
          "output_type": "stream",
          "text": [
            "10471\n",
            "(10471, 14)\n"
          ],
          "name": "stdout"
        },
        {
          "output_type": "execute_result",
          "data": {
            "text/plain": [
              "0    17.4922\n",
              "1    11.5534\n",
              "2     9.1636\n",
              "3    12.4774\n",
              "4    14.3159\n",
              "Name: M, dtype: float64"
            ]
          },
          "metadata": {
            "tags": []
          },
          "execution_count": 7
        }
      ]
    },
    {
      "cell_type": "code",
      "metadata": {
        "id": "iwN01HEl3T5U",
        "outputId": "21f7c33a-30d1-4c75-9819-93d66dcba6ad",
        "colab": {
          "base_uri": "https://localhost:8080/",
          "height": 51
        }
      },
      "source": [
        "highEn = doublemu[(doublemu.E1 >= 30) & (doublemu.E2 >= 30)]\n",
        "highEn.head()\n",
        "print('Amount of particles with energy >= 30 Gev: ', len(highEn))\n",
        "print('Amount of total particles', len(doublemu))"
      ],
      "execution_count": 8,
      "outputs": [
        {
          "output_type": "stream",
          "text": [
            "Amount of particles with energy >= 30 Gev:  6516\n",
            "Amount of total particles 100000\n"
          ],
          "name": "stdout"
        }
      ]
    },
    {
      "cell_type": "code",
      "metadata": {
        "id": "xq69F2twBCgI",
        "outputId": "462de338-7838-4e7c-c2b6-f745c6a447cd",
        "colab": {
          "base_uri": "https://localhost:8080/",
          "height": 306
        }
      },
      "source": [
        "alcBev = pd.read_csv('http://avoindata.valvira.fi/alkoholi/alkoholilupa_valmistus.csv', sep = ';', encoding = \"ISO-8859-1\", na_filter = False)\n",
        "alcBev.head()"
      ],
      "execution_count": 9,
      "outputs": [
        {
          "output_type": "execute_result",
          "data": {
            "text/html": [
              "<div>\n",
              "<style scoped>\n",
              "    .dataframe tbody tr th:only-of-type {\n",
              "        vertical-align: middle;\n",
              "    }\n",
              "\n",
              "    .dataframe tbody tr th {\n",
              "        vertical-align: top;\n",
              "    }\n",
              "\n",
              "    .dataframe thead th {\n",
              "        text-align: right;\n",
              "    }\n",
              "</style>\n",
              "<table border=\"1\" class=\"dataframe\">\n",
              "  <thead>\n",
              "    <tr style=\"text-align: right;\">\n",
              "      <th></th>\n",
              "      <th>Y-Tunnus</th>\n",
              "      <th>Nimi</th>\n",
              "      <th>Luvan alkupvm</th>\n",
              "      <th>Olut</th>\n",
              "      <th>Viini</th>\n",
              "      <th>Hedelmäviini</th>\n",
              "      <th>Tislatut alkoholijuomat</th>\n",
              "      <th>Väkiviina</th>\n",
              "      <th>Käsityöläisoluen vähittäismyyntilupa</th>\n",
              "      <th>Tilaviinin vähittäismyyntilupa</th>\n",
              "    </tr>\n",
              "  </thead>\n",
              "  <tbody>\n",
              "    <tr>\n",
              "      <th>0</th>\n",
              "      <td>0107011-5</td>\n",
              "      <td>Berner Oy</td>\n",
              "      <td>03.02.2014</td>\n",
              "      <td></td>\n",
              "      <td></td>\n",
              "      <td></td>\n",
              "      <td></td>\n",
              "      <td>X</td>\n",
              "      <td></td>\n",
              "      <td></td>\n",
              "    </tr>\n",
              "    <tr>\n",
              "      <th>1</th>\n",
              "      <td>0170318-9</td>\n",
              "      <td>Olvi Oyj</td>\n",
              "      <td>17.02.1995</td>\n",
              "      <td>X</td>\n",
              "      <td></td>\n",
              "      <td>X</td>\n",
              "      <td>X</td>\n",
              "      <td></td>\n",
              "      <td></td>\n",
              "      <td></td>\n",
              "    </tr>\n",
              "    <tr>\n",
              "      <th>2</th>\n",
              "      <td>0171079-2</td>\n",
              "      <td>Alahovin Viinitila Oy</td>\n",
              "      <td>25.02.1995</td>\n",
              "      <td>X</td>\n",
              "      <td>X</td>\n",
              "      <td>X</td>\n",
              "      <td>X</td>\n",
              "      <td></td>\n",
              "      <td></td>\n",
              "      <td>X</td>\n",
              "    </tr>\n",
              "    <tr>\n",
              "      <th>3</th>\n",
              "      <td>0171110-3</td>\n",
              "      <td>Oy Gust. Ranin Lignell &amp; Piispanen</td>\n",
              "      <td>20.01.1995</td>\n",
              "      <td></td>\n",
              "      <td></td>\n",
              "      <td>X</td>\n",
              "      <td>X</td>\n",
              "      <td></td>\n",
              "      <td></td>\n",
              "      <td></td>\n",
              "    </tr>\n",
              "    <tr>\n",
              "      <th>4</th>\n",
              "      <td>0193088-3</td>\n",
              "      <td>Kakslauttanen Arctic Resort Oy</td>\n",
              "      <td>25.02.2020</td>\n",
              "      <td>X</td>\n",
              "      <td></td>\n",
              "      <td></td>\n",
              "      <td></td>\n",
              "      <td></td>\n",
              "      <td></td>\n",
              "      <td></td>\n",
              "    </tr>\n",
              "  </tbody>\n",
              "</table>\n",
              "</div>"
            ],
            "text/plain": [
              "    Y-Tunnus  ... Tilaviinin vähittäismyyntilupa\n",
              "0  0107011-5  ...                               \n",
              "1  0170318-9  ...                               \n",
              "2  0171079-2  ...                              X\n",
              "3  0171110-3  ...                               \n",
              "4  0193088-3  ...                               \n",
              "\n",
              "[5 rows x 10 columns]"
            ]
          },
          "metadata": {
            "tags": []
          },
          "execution_count": 9
        }
      ]
    },
    {
      "cell_type": "code",
      "metadata": {
        "id": "dH8PeuBJCjT6",
        "outputId": "b35bf881-0403-4aca-c963-e7d3d2ee7361",
        "colab": {
          "base_uri": "https://localhost:8080/",
          "height": 306
        }
      },
      "source": [
        "producers = alcBev[alcBev['Nimi'].str.contains('Oy|Ab') == False]\n",
        "producers.head()"
      ],
      "execution_count": 10,
      "outputs": [
        {
          "output_type": "execute_result",
          "data": {
            "text/html": [
              "<div>\n",
              "<style scoped>\n",
              "    .dataframe tbody tr th:only-of-type {\n",
              "        vertical-align: middle;\n",
              "    }\n",
              "\n",
              "    .dataframe tbody tr th {\n",
              "        vertical-align: top;\n",
              "    }\n",
              "\n",
              "    .dataframe thead th {\n",
              "        text-align: right;\n",
              "    }\n",
              "</style>\n",
              "<table border=\"1\" class=\"dataframe\">\n",
              "  <thead>\n",
              "    <tr style=\"text-align: right;\">\n",
              "      <th></th>\n",
              "      <th>Y-Tunnus</th>\n",
              "      <th>Nimi</th>\n",
              "      <th>Luvan alkupvm</th>\n",
              "      <th>Olut</th>\n",
              "      <th>Viini</th>\n",
              "      <th>Hedelmäviini</th>\n",
              "      <th>Tislatut alkoholijuomat</th>\n",
              "      <th>Väkiviina</th>\n",
              "      <th>Käsityöläisoluen vähittäismyyntilupa</th>\n",
              "      <th>Tilaviinin vähittäismyyntilupa</th>\n",
              "    </tr>\n",
              "  </thead>\n",
              "  <tbody>\n",
              "    <tr>\n",
              "      <th>6</th>\n",
              "      <td>0211675-2</td>\n",
              "      <td>Tampereen kaupunki</td>\n",
              "      <td>15.02.2019</td>\n",
              "      <td>X</td>\n",
              "      <td></td>\n",
              "      <td></td>\n",
              "      <td></td>\n",
              "      <td></td>\n",
              "      <td></td>\n",
              "      <td></td>\n",
              "    </tr>\n",
              "    <tr>\n",
              "      <th>8</th>\n",
              "      <td>0213834-5</td>\n",
              "      <td>Keski-Uudenmaan koulutuskunta-</td>\n",
              "      <td>18.06.2009</td>\n",
              "      <td>X</td>\n",
              "      <td></td>\n",
              "      <td>X</td>\n",
              "      <td></td>\n",
              "      <td></td>\n",
              "      <td></td>\n",
              "      <td></td>\n",
              "    </tr>\n",
              "    <tr>\n",
              "      <th>18</th>\n",
              "      <td>0851271-3</td>\n",
              "      <td>Matti Punakallio Ky</td>\n",
              "      <td>08.01.1996</td>\n",
              "      <td>X</td>\n",
              "      <td></td>\n",
              "      <td></td>\n",
              "      <td></td>\n",
              "      <td></td>\n",
              "      <td></td>\n",
              "      <td></td>\n",
              "    </tr>\n",
              "    <tr>\n",
              "      <th>20</th>\n",
              "      <td>0894365-2</td>\n",
              "      <td>Finlandia Sahti Ky</td>\n",
              "      <td>01.01.1995</td>\n",
              "      <td>X</td>\n",
              "      <td></td>\n",
              "      <td></td>\n",
              "      <td></td>\n",
              "      <td></td>\n",
              "      <td>X</td>\n",
              "      <td></td>\n",
              "    </tr>\n",
              "    <tr>\n",
              "      <th>21</th>\n",
              "      <td>0913659-6</td>\n",
              "      <td>Mainos- ja markkinointipalvelu</td>\n",
              "      <td>17.10.2018</td>\n",
              "      <td>X</td>\n",
              "      <td></td>\n",
              "      <td></td>\n",
              "      <td></td>\n",
              "      <td></td>\n",
              "      <td>X</td>\n",
              "      <td></td>\n",
              "    </tr>\n",
              "  </tbody>\n",
              "</table>\n",
              "</div>"
            ],
            "text/plain": [
              "     Y-Tunnus  ... Tilaviinin vähittäismyyntilupa\n",
              "6   0211675-2  ...                               \n",
              "8   0213834-5  ...                               \n",
              "18  0851271-3  ...                               \n",
              "20  0894365-2  ...                               \n",
              "21  0913659-6  ...                               \n",
              "\n",
              "[5 rows x 10 columns]"
            ]
          },
          "metadata": {
            "tags": []
          },
          "execution_count": 10
        }
      ]
    },
    {
      "cell_type": "code",
      "metadata": {
        "id": "CSF6phWNDN0n",
        "outputId": "47f5d957-6160-4fb3-c384-7dac0592fa30",
        "colab": {
          "base_uri": "https://localhost:8080/",
          "height": 204
        }
      },
      "source": [
        "alcBev = alcBev.drop(['Nimi'], axis = 1)\n",
        "alcBev.head()\n",
        "# removing a column with .drop"
      ],
      "execution_count": 11,
      "outputs": [
        {
          "output_type": "execute_result",
          "data": {
            "text/html": [
              "<div>\n",
              "<style scoped>\n",
              "    .dataframe tbody tr th:only-of-type {\n",
              "        vertical-align: middle;\n",
              "    }\n",
              "\n",
              "    .dataframe tbody tr th {\n",
              "        vertical-align: top;\n",
              "    }\n",
              "\n",
              "    .dataframe thead th {\n",
              "        text-align: right;\n",
              "    }\n",
              "</style>\n",
              "<table border=\"1\" class=\"dataframe\">\n",
              "  <thead>\n",
              "    <tr style=\"text-align: right;\">\n",
              "      <th></th>\n",
              "      <th>Y-Tunnus</th>\n",
              "      <th>Luvan alkupvm</th>\n",
              "      <th>Olut</th>\n",
              "      <th>Viini</th>\n",
              "      <th>Hedelmäviini</th>\n",
              "      <th>Tislatut alkoholijuomat</th>\n",
              "      <th>Väkiviina</th>\n",
              "      <th>Käsityöläisoluen vähittäismyyntilupa</th>\n",
              "      <th>Tilaviinin vähittäismyyntilupa</th>\n",
              "    </tr>\n",
              "  </thead>\n",
              "  <tbody>\n",
              "    <tr>\n",
              "      <th>0</th>\n",
              "      <td>0107011-5</td>\n",
              "      <td>03.02.2014</td>\n",
              "      <td></td>\n",
              "      <td></td>\n",
              "      <td></td>\n",
              "      <td></td>\n",
              "      <td>X</td>\n",
              "      <td></td>\n",
              "      <td></td>\n",
              "    </tr>\n",
              "    <tr>\n",
              "      <th>1</th>\n",
              "      <td>0170318-9</td>\n",
              "      <td>17.02.1995</td>\n",
              "      <td>X</td>\n",
              "      <td></td>\n",
              "      <td>X</td>\n",
              "      <td>X</td>\n",
              "      <td></td>\n",
              "      <td></td>\n",
              "      <td></td>\n",
              "    </tr>\n",
              "    <tr>\n",
              "      <th>2</th>\n",
              "      <td>0171079-2</td>\n",
              "      <td>25.02.1995</td>\n",
              "      <td>X</td>\n",
              "      <td>X</td>\n",
              "      <td>X</td>\n",
              "      <td>X</td>\n",
              "      <td></td>\n",
              "      <td></td>\n",
              "      <td>X</td>\n",
              "    </tr>\n",
              "    <tr>\n",
              "      <th>3</th>\n",
              "      <td>0171110-3</td>\n",
              "      <td>20.01.1995</td>\n",
              "      <td></td>\n",
              "      <td></td>\n",
              "      <td>X</td>\n",
              "      <td>X</td>\n",
              "      <td></td>\n",
              "      <td></td>\n",
              "      <td></td>\n",
              "    </tr>\n",
              "    <tr>\n",
              "      <th>4</th>\n",
              "      <td>0193088-3</td>\n",
              "      <td>25.02.2020</td>\n",
              "      <td>X</td>\n",
              "      <td></td>\n",
              "      <td></td>\n",
              "      <td></td>\n",
              "      <td></td>\n",
              "      <td></td>\n",
              "      <td></td>\n",
              "    </tr>\n",
              "  </tbody>\n",
              "</table>\n",
              "</div>"
            ],
            "text/plain": [
              "    Y-Tunnus  ... Tilaviinin vähittäismyyntilupa\n",
              "0  0107011-5  ...                               \n",
              "1  0170318-9  ...                               \n",
              "2  0171079-2  ...                              X\n",
              "3  0171110-3  ...                               \n",
              "4  0193088-3  ...                               \n",
              "\n",
              "[5 rows x 9 columns]"
            ]
          },
          "metadata": {
            "tags": []
          },
          "execution_count": 11
        }
      ]
    },
    {
      "cell_type": "code",
      "metadata": {
        "id": "R6yasgNKasfj",
        "outputId": "097831b1-100d-4338-dbaa-122b298a9dd7",
        "colab": {
          "base_uri": "https://localhost:8080/",
          "height": 306
        }
      },
      "source": [
        "numb = np.linspace(0, 100, len(alcBev))\n",
        "alcBev = alcBev.assign(R = numb)\n",
        "alcBev.head()"
      ],
      "execution_count": 12,
      "outputs": [
        {
          "output_type": "execute_result",
          "data": {
            "text/html": [
              "<div>\n",
              "<style scoped>\n",
              "    .dataframe tbody tr th:only-of-type {\n",
              "        vertical-align: middle;\n",
              "    }\n",
              "\n",
              "    .dataframe tbody tr th {\n",
              "        vertical-align: top;\n",
              "    }\n",
              "\n",
              "    .dataframe thead th {\n",
              "        text-align: right;\n",
              "    }\n",
              "</style>\n",
              "<table border=\"1\" class=\"dataframe\">\n",
              "  <thead>\n",
              "    <tr style=\"text-align: right;\">\n",
              "      <th></th>\n",
              "      <th>Y-Tunnus</th>\n",
              "      <th>Luvan alkupvm</th>\n",
              "      <th>Olut</th>\n",
              "      <th>Viini</th>\n",
              "      <th>Hedelmäviini</th>\n",
              "      <th>Tislatut alkoholijuomat</th>\n",
              "      <th>Väkiviina</th>\n",
              "      <th>Käsityöläisoluen vähittäismyyntilupa</th>\n",
              "      <th>Tilaviinin vähittäismyyntilupa</th>\n",
              "      <th>R</th>\n",
              "    </tr>\n",
              "  </thead>\n",
              "  <tbody>\n",
              "    <tr>\n",
              "      <th>0</th>\n",
              "      <td>0107011-5</td>\n",
              "      <td>03.02.2014</td>\n",
              "      <td></td>\n",
              "      <td></td>\n",
              "      <td></td>\n",
              "      <td></td>\n",
              "      <td>X</td>\n",
              "      <td></td>\n",
              "      <td></td>\n",
              "      <td>0.000000</td>\n",
              "    </tr>\n",
              "    <tr>\n",
              "      <th>1</th>\n",
              "      <td>0170318-9</td>\n",
              "      <td>17.02.1995</td>\n",
              "      <td>X</td>\n",
              "      <td></td>\n",
              "      <td>X</td>\n",
              "      <td>X</td>\n",
              "      <td></td>\n",
              "      <td></td>\n",
              "      <td></td>\n",
              "      <td>0.520833</td>\n",
              "    </tr>\n",
              "    <tr>\n",
              "      <th>2</th>\n",
              "      <td>0171079-2</td>\n",
              "      <td>25.02.1995</td>\n",
              "      <td>X</td>\n",
              "      <td>X</td>\n",
              "      <td>X</td>\n",
              "      <td>X</td>\n",
              "      <td></td>\n",
              "      <td></td>\n",
              "      <td>X</td>\n",
              "      <td>1.041667</td>\n",
              "    </tr>\n",
              "    <tr>\n",
              "      <th>3</th>\n",
              "      <td>0171110-3</td>\n",
              "      <td>20.01.1995</td>\n",
              "      <td></td>\n",
              "      <td></td>\n",
              "      <td>X</td>\n",
              "      <td>X</td>\n",
              "      <td></td>\n",
              "      <td></td>\n",
              "      <td></td>\n",
              "      <td>1.562500</td>\n",
              "    </tr>\n",
              "    <tr>\n",
              "      <th>4</th>\n",
              "      <td>0193088-3</td>\n",
              "      <td>25.02.2020</td>\n",
              "      <td>X</td>\n",
              "      <td></td>\n",
              "      <td></td>\n",
              "      <td></td>\n",
              "      <td></td>\n",
              "      <td></td>\n",
              "      <td></td>\n",
              "      <td>2.083333</td>\n",
              "    </tr>\n",
              "  </tbody>\n",
              "</table>\n",
              "</div>"
            ],
            "text/plain": [
              "    Y-Tunnus Luvan alkupvm  ... Tilaviinin vähittäismyyntilupa         R\n",
              "0  0107011-5    03.02.2014  ...                                 0.000000\n",
              "1  0170318-9    17.02.1995  ...                                 0.520833\n",
              "2  0171079-2    25.02.1995  ...                              X  1.041667\n",
              "3  0171110-3    20.01.1995  ...                                 1.562500\n",
              "4  0193088-3    25.02.2020  ...                                 2.083333\n",
              "\n",
              "[5 rows x 10 columns]"
            ]
          },
          "metadata": {
            "tags": []
          },
          "execution_count": 12
        }
      ]
    },
    {
      "cell_type": "code",
      "metadata": {
        "id": "_0hI-NnDbfuY"
      },
      "source": [
        ""
      ],
      "execution_count": null,
      "outputs": []
    }
  ]
}